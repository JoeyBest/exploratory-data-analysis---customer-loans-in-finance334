{
 "cells": [
  {
   "cell_type": "code",
   "execution_count": 94,
   "metadata": {},
   "outputs": [],
   "source": [
    "import numpy as np\n",
    "import pandas as pd\n",
    "table_of_loans = pd.read_csv('eda.csv')"
   ]
  },
  {
   "cell_type": "code",
   "execution_count": 112,
   "metadata": {},
   "outputs": [],
   "source": [
    "class DataFrameInfo:\n",
    "\n",
    "    def __init__(self, df_info):\n",
    "        self.df_info = df_info\n",
    "\n",
    "    def check_column_datatypes(self): \n",
    "        return self.df_info.dtypes\n",
    "\n",
    "    def extract_statistical_values(self, columns):\n",
    "        for col in columns:\n",
    "            print(f'Statistics for Col: {col}')\n",
    "            return self.df_info[col].describe()\n",
    "\n",
    "    def count_unique_categories(self, columns):\n",
    "        self.columns = self.df_info.select_dtypes(include=['category']).columns\n",
    "        df_unique = self.df_info[columns[:]]\n",
    "        return df_unique.nunique()\n",
    "        # orrrrrrrr\n",
    "    #def count_unique_categories(self, df_info: pd.DataFrame, column_name: str):\n",
    "     #   return len(df_info[column_name].unique())\n",
    "\n",
    "    def shape_of_dataframe(self):\n",
    "        print(f'Shape of DataFrame: [{self.df_info.shape[0]} rows x {self.df_info.shape[1]} columns]\\n')\n",
    "\n",
    "    def num_of_nulls(self):\n",
    "        cols = self.df_info.columns\n",
    "        # Define an empty list of null column rows\n",
    "        null_coulmn_rows = []\n",
    "        # Populate list of null column rows\n",
    "        for col in cols:\n",
    "            # if self.df[col].isnull().sum() > 0:\n",
    "            null_coulmn_rows.append([col, self.df_info[col].count(), 100*(self.df_info[col].isnull().sum()/len(self.df_info))])\n",
    "        \n",
    "        # Convert the list into dataframe rows\n",
    "        data = pd.DataFrame(null_coulmn_rows)\n",
    "        # Add columns headers\n",
    "        data.columns = ['column', 'count', '% null count']  \n",
    "        return data"
   ]
  },
  {
   "cell_type": "code",
   "execution_count": 114,
   "metadata": {},
   "outputs": [],
   "source": [
    "df_df = DataFrameInfo(table_of_loans)\n"
   ]
  },
  {
   "cell_type": "code",
   "execution_count": 116,
   "metadata": {},
   "outputs": [
    {
     "name": "stdout",
     "output_type": "stream",
     "text": [
      "id                               int64\n",
      "member_id                        int64\n",
      "loan_amount                      int64\n",
      "funded_amount                  float64\n",
      "funded_amount_inv              float64\n",
      "term                            object\n",
      "int_rate                       float64\n",
      "instalment                     float64\n",
      "grade                           object\n",
      "sub_grade                       object\n",
      "employment_length               object\n",
      "home_ownership                  object\n",
      "annual_inc                     float64\n",
      "verification_status             object\n",
      "issue_date                      object\n",
      "loan_status                     object\n",
      "payment_plan                    object\n",
      "purpose                         object\n",
      "dti                            float64\n",
      "delinq_2yrs                      int64\n",
      "earliest_credit_line            object\n",
      "inq_last_6mths                   int64\n",
      "mths_since_last_delinq         float64\n",
      "mths_since_last_record         float64\n",
      "open_accounts                    int64\n",
      "total_accounts                   int64\n",
      "out_prncp                      float64\n",
      "out_prncp_inv                  float64\n",
      "total_payment                  float64\n",
      "total_payment_inv              float64\n",
      "total_rec_prncp                float64\n",
      "total_rec_int                  float64\n",
      "total_rec_late_fee             float64\n",
      "recoveries                     float64\n",
      "collection_recovery_fee        float64\n",
      "last_payment_date               object\n",
      "last_payment_amount            float64\n",
      "next_payment_date               object\n",
      "last_credit_pull_date           object\n",
      "collections_12_mths_ex_med     float64\n",
      "mths_since_last_major_derog    float64\n",
      "policy_code                      int64\n",
      "application_type                object\n",
      "dtype: object\n"
     ]
    }
   ],
   "source": [
    "print(df_df.check_column_datatypes())\n"
   ]
  },
  {
   "cell_type": "code",
   "execution_count": 91,
   "metadata": {},
   "outputs": [
    {
     "name": "stdout",
     "output_type": "stream",
     "text": [
      "\n",
      "The no. of Unique Items in grade    7\n",
      "dtype: int64\n",
      "\n",
      "Statistics for Col: loan_amount\n",
      "count    54231.000000\n",
      "mean     13333.076100\n",
      "std       8082.196709\n",
      "min        500.000000\n",
      "25%       7000.000000\n",
      "50%      12000.000000\n",
      "75%      18000.000000\n",
      "max      35000.000000\n",
      "Name: loan_amount, dtype: float64\n"
     ]
    }
   ],
   "source": [
    "print('')\n",
    "print(f\"The no. of Unique Items in {df_df.count_unique_categories(['grade'])}\")\n",
    "print('')\n",
    "print(df_df.extract_statistical_values(['loan_amount']))"
   ]
  },
  {
   "cell_type": "code",
   "execution_count": 110,
   "metadata": {},
   "outputs": [
    {
     "name": "stdout",
     "output_type": "stream",
     "text": [
      "Shape of DataFrame: [54231 rows x 43 columns]\n",
      "\n",
      "None\n"
     ]
    }
   ],
   "source": [
    "print(df_df.shape_of_dataframe())\n"
   ]
  },
  {
   "cell_type": "code",
   "execution_count": 115,
   "metadata": {},
   "outputs": [
    {
     "name": "stdout",
     "output_type": "stream",
     "text": [
      "                         column  count  % null count\n",
      "0                            id  54231      0.000000\n",
      "1                     member_id  54231      0.000000\n",
      "2                   loan_amount  54231      0.000000\n",
      "3                 funded_amount  51224      5.544799\n",
      "4             funded_amount_inv  54231      0.000000\n",
      "5                          term  49459      8.799395\n",
      "6                      int_rate  49062      9.531449\n",
      "7                    instalment  54231      0.000000\n",
      "8                         grade  54231      0.000000\n",
      "9                     sub_grade  54231      0.000000\n",
      "10            employment_length  52113      3.905515\n",
      "11               home_ownership  54231      0.000000\n",
      "12                   annual_inc  54231      0.000000\n",
      "13          verification_status  54231      0.000000\n",
      "14                   issue_date  54231      0.000000\n",
      "15                  loan_status  54231      0.000000\n",
      "16                 payment_plan  54231      0.000000\n",
      "17                      purpose  54231      0.000000\n",
      "18                          dti  54231      0.000000\n",
      "19                  delinq_2yrs  54231      0.000000\n",
      "20         earliest_credit_line  54231      0.000000\n",
      "21               inq_last_6mths  54231      0.000000\n",
      "22       mths_since_last_delinq  23229     57.166565\n",
      "23       mths_since_last_record   6181     88.602460\n",
      "24                open_accounts  54231      0.000000\n",
      "25               total_accounts  54231      0.000000\n",
      "26                    out_prncp  54231      0.000000\n",
      "27                out_prncp_inv  54231      0.000000\n",
      "28                total_payment  54231      0.000000\n",
      "29            total_payment_inv  54231      0.000000\n",
      "30              total_rec_prncp  54231      0.000000\n",
      "31                total_rec_int  54231      0.000000\n",
      "32           total_rec_late_fee  54231      0.000000\n",
      "33                   recoveries  54231      0.000000\n",
      "34      collection_recovery_fee  54231      0.000000\n",
      "35            last_payment_date  54158      0.134609\n",
      "36          last_payment_amount  54231      0.000000\n",
      "37            next_payment_date  21623     60.127971\n",
      "38        last_credit_pull_date  54224      0.012908\n",
      "39   collections_12_mths_ex_med  54180      0.094042\n",
      "40  mths_since_last_major_derog   7499     86.172116\n",
      "41                  policy_code  54231      0.000000\n",
      "42             application_type  54231      0.000000\n"
     ]
    }
   ],
   "source": [
    "print(df_df.num_of_nulls())\n"
   ]
  }
 ],
 "metadata": {
  "kernelspec": {
   "display_name": "base",
   "language": "python",
   "name": "python3"
  },
  "language_info": {
   "codemirror_mode": {
    "name": "ipython",
    "version": 3
   },
   "file_extension": ".py",
   "mimetype": "text/x-python",
   "name": "python",
   "nbconvert_exporter": "python",
   "pygments_lexer": "ipython3",
   "version": "3.11.5"
  }
 },
 "nbformat": 4,
 "nbformat_minor": 2
}
