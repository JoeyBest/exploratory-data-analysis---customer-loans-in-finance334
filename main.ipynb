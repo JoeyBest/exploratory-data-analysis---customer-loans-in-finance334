{
 "cells": [
  {
   "cell_type": "markdown",
   "metadata": {},
   "source": [
    "# **Exploratory Data Analysis**"
   ]
  },
  {
   "cell_type": "code",
   "execution_count": 2,
   "metadata": {},
   "outputs": [],
   "source": [
    "import missingno as msno\n",
    "import numpy as np\n",
    "import pandas as pd\n",
    "import plotly.express as px\n",
    "import seaborn as sns\n",
    "import statsmodels.api as sm\n",
    "import yaml\n",
    "from scipy import stats\n",
    "from scipy.stats import normaltest\n",
    "from statsmodels.graphics.gofplots import qqplot\n",
    "from sqlalchemy import create_engine\n",
    "from sqlalchemy import inspect\n",
    "from matplotlib import pyplot as plt"
   ]
  },
  {
   "cell_type": "code",
   "execution_count": 3,
   "metadata": {},
   "outputs": [
    {
     "name": "stderr",
     "output_type": "stream",
     "text": [
      "/Users/joeybest/Ai Core/EDA/exploratory-data-analysis---customer-loans-in-finance334/DataTransformation.py:116: SyntaxWarning: invalid escape sequence '\\d'\n",
      "  '''\n",
      "/Users/joeybest/Ai Core/EDA/exploratory-data-analysis---customer-loans-in-finance334/DataTransformation.py:126: SyntaxWarning: invalid escape sequence '\\d'\n",
      "  self.df_info[col] = self.df_info[col].str.extract('(\\d+)')\n"
     ]
    }
   ],
   "source": [
    "from db_utils import RDSDatabaseConnector\n",
    "from db_utils import credentials_reader\n",
    "from dataframe_info import DataFrameInfo\n",
    "from DataTransformation import DataTransform\n",
    "from plot import Plotter\n",
    "from plot import DataFrameTransform"
   ]
  },
  {
   "cell_type": "markdown",
   "metadata": {},
   "source": [
    "## Accessing the Dataframe"
   ]
  },
  {
   "cell_type": "code",
   "execution_count": 166,
   "metadata": {},
   "outputs": [
    {
     "name": "stdout",
     "output_type": "stream",
     "text": [
      "['loan_payments']\n",
      "          member_id  loan_amount  funded_amount  funded_amount_inv       term  \\\n",
      "id                                                                              \n",
      "38676116   41461848         8000         8000.0             8000.0  36 months   \n",
      "38656203   41440010        13200        13200.0            13200.0  36 months   \n",
      "38656154   41439961        16000        16000.0            16000.0  36 months   \n",
      "38656128   41439934        15000        15000.0            15000.0  36 months   \n",
      "38656121   41439927        15000        15000.0            15000.0  36 months   \n",
      "...             ...          ...            ...                ...        ...   \n",
      "76597         76583         5000         5000.0             1775.0  36 months   \n",
      "142608        74724         5000         5000.0             2350.0  36 months   \n",
      "117045        70978         3500         3500.0             2225.0  36 months   \n",
      "88854         70699         5000         5000.0              225.0  36 months   \n",
      "72323         70694         5000         5000.0              350.0  36 months   \n",
      "\n",
      "          int_rate  instalment grade sub_grade employment_length  ...  \\\n",
      "id                                                                ...   \n",
      "38676116      7.49      248.82     A        A4           5 years  ...   \n",
      "38656203      6.99      407.52     A        A3           9 years  ...   \n",
      "38656154      7.49      497.63     A        A4           8 years  ...   \n",
      "38656128     14.31      514.93     C        C4            1 year  ...   \n",
      "38656121      6.03      456.54     A        A1         10+ years  ...   \n",
      "...            ...         ...   ...       ...               ...  ...   \n",
      "76597         9.01      159.03     B        B2            1 year  ...   \n",
      "142608       10.59      162.73     C        C2          < 1 year  ...   \n",
      "117045        7.43      108.77     A        A2         10+ years  ...   \n",
      "88854         7.43      155.38     A        A2           4 years  ...   \n",
      "72323        11.54      164.98     C        C5           9 years  ...   \n",
      "\n",
      "         recoveries  collection_recovery_fee last_payment_date  \\\n",
      "id                                                               \n",
      "38676116       0.00                     0.00          Jan-2022   \n",
      "38656203       0.00                     0.00          Jan-2022   \n",
      "38656154       0.00                     0.00          Oct-2021   \n",
      "38656128       0.00                     0.00          Jun-2021   \n",
      "38656121       0.00                     0.00          Jan-2022   \n",
      "...             ...                      ...               ...   \n",
      "76597          0.00                     0.00          Jul-2016   \n",
      "142608         0.00                     0.00          Oct-2016   \n",
      "117045         0.00                     0.00          Sep-2016   \n",
      "88854          0.00                     0.00          Mar-2014   \n",
      "72323        182.27                     1.84          Mar-2014   \n",
      "\n",
      "         last_payment_amount next_payment_date last_credit_pull_date  \\\n",
      "id                                                                     \n",
      "38676116              248.82          Feb-2022              Jan-2022   \n",
      "38656203              407.52          Feb-2022              Jan-2022   \n",
      "38656154            12850.16               NaN              Oct-2021   \n",
      "38656128            13899.67               NaN              Jun-2021   \n",
      "38656121              456.54          Feb-2022              Jan-2022   \n",
      "...                      ...               ...                   ...   \n",
      "76597                 160.61               NaN              Jul-2016   \n",
      "142608                490.01               NaN              Sep-2016   \n",
      "117045                110.58          Sep-2016              May-2013   \n",
      "88854                   0.00               NaN              May-2013   \n",
      "72323                 164.97          Dec-2014              Jan-2015   \n",
      "\n",
      "         collections_12_mths_ex_med  mths_since_last_major_derog  policy_code  \\\n",
      "id                                                                              \n",
      "38676116                        0.0                          5.0            1   \n",
      "38656203                        0.0                          NaN            1   \n",
      "38656154                        0.0                          NaN            1   \n",
      "38656128                        0.0                          NaN            1   \n",
      "38656121                        0.0                          NaN            1   \n",
      "...                             ...                          ...          ...   \n",
      "76597                           NaN                          NaN            1   \n",
      "142608                          0.0                          NaN            1   \n",
      "117045                          NaN                          NaN            1   \n",
      "88854                           NaN                          NaN            1   \n",
      "72323                           NaN                          NaN            1   \n",
      "\n",
      "         application_type  \n",
      "id                         \n",
      "38676116       INDIVIDUAL  \n",
      "38656203       INDIVIDUAL  \n",
      "38656154       INDIVIDUAL  \n",
      "38656128       INDIVIDUAL  \n",
      "38656121       INDIVIDUAL  \n",
      "...                   ...  \n",
      "76597          INDIVIDUAL  \n",
      "142608         INDIVIDUAL  \n",
      "117045         INDIVIDUAL  \n",
      "88854          INDIVIDUAL  \n",
      "72323          INDIVIDUAL  \n",
      "\n",
      "[54231 rows x 39 columns]\n"
     ]
    }
   ],
   "source": [
    "# reads credentials from yaml file\n",
    "credentials = credentials_reader()\n",
    "\n",
    "RDSDatabaseConnector(credentials)\n",
    "# next creates instance of the rds connector\n",
    "loan_data = RDSDatabaseConnector(credentials)\n",
    "loan_data.initiate_engine()\n",
    "loan_data.database_to_dataframe()\n",
    "\n",
    "extracted_data_frame = loan_data.database_to_dataframe()\n",
    "\n",
    "loan_data.saves_data_locally()\n",
    "# saves CSV file\n",
    "\n",
    "table_of_loans = loan_data.load_localdata_to_dataframe()\n",
    "print(table_of_loans)"
   ]
  },
  {
   "cell_type": "markdown",
   "metadata": {},
   "source": [
    "## Investigating the current data"
   ]
  },
  {
   "cell_type": "code",
   "execution_count": 154,
   "metadata": {},
   "outputs": [
    {
     "name": "stdout",
     "output_type": "stream",
     "text": [
      "          member_id  loan_amount  funded_amount  funded_amount_inv       term  \\\n",
      "id                                                                              \n",
      "38676116   41461848         8000         8000.0             8000.0  36 months   \n",
      "38656203   41440010        13200        13200.0            13200.0  36 months   \n",
      "38656154   41439961        16000        16000.0            16000.0  36 months   \n",
      "38656128   41439934        15000        15000.0            15000.0  36 months   \n",
      "38656121   41439927        15000        15000.0            15000.0  36 months   \n",
      "38656111   41439917         2525         2525.0             2525.0  36 months   \n",
      "38656110   41439916         6675         6675.0             6675.0        NaN   \n",
      "38656067   41439872        26500        26500.0            26200.0        NaN   \n",
      "38656063   41439868        10000        10000.0            10000.0  60 months   \n",
      "38656052   41439857        10000            NaN            10000.0  36 months   \n",
      "\n",
      "          int_rate  instalment grade sub_grade employment_length  ...  \\\n",
      "id                                                                ...   \n",
      "38676116      7.49      248.82     A        A4           5 years  ...   \n",
      "38656203      6.99      407.52     A        A3           9 years  ...   \n",
      "38656154      7.49      497.63     A        A4           8 years  ...   \n",
      "38656128     14.31      514.93     C        C4            1 year  ...   \n",
      "38656121      6.03      456.54     A        A1         10+ years  ...   \n",
      "38656111     11.44       83.20     B        B4          < 1 year  ...   \n",
      "38656110     21.99      254.89     E        E5               NaN  ...   \n",
      "38656067     19.99      701.95     E        E3          < 1 year  ...   \n",
      "38656063     12.99      227.48     C        C2          < 1 year  ...   \n",
      "38656052      8.19      314.25     A        A5         10+ years  ...   \n",
      "\n",
      "         recoveries  collection_recovery_fee last_payment_date  \\\n",
      "id                                                               \n",
      "38676116        0.0                      0.0          Jan-2022   \n",
      "38656203        0.0                      0.0          Jan-2022   \n",
      "38656154        0.0                      0.0          Oct-2021   \n",
      "38656128        0.0                      0.0          Jun-2021   \n",
      "38656121        0.0                      0.0          Jan-2022   \n",
      "38656111        0.0                      0.0          Jan-2022   \n",
      "38656110        0.0                      0.0          Mar-2021   \n",
      "38656067        0.0                      0.0          Aug-2021   \n",
      "38656063        0.0                      0.0          Jan-2022   \n",
      "38656052        0.0                      0.0          Jan-2022   \n",
      "\n",
      "         last_payment_amount next_payment_date last_credit_pull_date  \\\n",
      "id                                                                     \n",
      "38676116              248.82          Feb-2022              Jan-2022   \n",
      "38656203              407.52          Feb-2022              Jan-2022   \n",
      "38656154            12850.16               NaN              Oct-2021   \n",
      "38656128            13899.67               NaN              Jun-2021   \n",
      "38656121              456.54          Feb-2022              Jan-2022   \n",
      "38656111               91.39          Feb-2022              Jan-2022   \n",
      "38656110             6724.95               NaN              Mar-2021   \n",
      "38656067              701.95               NaN              Jan-2022   \n",
      "38656063              227.48          Feb-2022              Jan-2022   \n",
      "38656052              314.25          Feb-2022              Jan-2022   \n",
      "\n",
      "         collections_12_mths_ex_med  mths_since_last_major_derog  policy_code  \\\n",
      "id                                                                              \n",
      "38676116                        0.0                          5.0            1   \n",
      "38656203                        0.0                          NaN            1   \n",
      "38656154                        0.0                          NaN            1   \n",
      "38656128                        0.0                          NaN            1   \n",
      "38656121                        0.0                          NaN            1   \n",
      "38656111                        0.0                          NaN            1   \n",
      "38656110                        0.0                          NaN            1   \n",
      "38656067                        0.0                         43.0            1   \n",
      "38656063                        0.0                          NaN            1   \n",
      "38656052                        0.0                          NaN            1   \n",
      "\n",
      "         application_type  \n",
      "id                         \n",
      "38676116       INDIVIDUAL  \n",
      "38656203       INDIVIDUAL  \n",
      "38656154       INDIVIDUAL  \n",
      "38656128       INDIVIDUAL  \n",
      "38656121       INDIVIDUAL  \n",
      "38656111       INDIVIDUAL  \n",
      "38656110       INDIVIDUAL  \n",
      "38656067       INDIVIDUAL  \n",
      "38656063       INDIVIDUAL  \n",
      "38656052       INDIVIDUAL  \n",
      "\n",
      "[10 rows x 39 columns]\n",
      "        member_id  loan_amount  funded_amount  funded_amount_inv       term  \\\n",
      "id                                                                            \n",
      "395632      91027         5500         5500.0             5450.0  36 months   \n",
      "90395       90390         5000         5000.0             1325.0  36 months   \n",
      "88637       88629         6000         6000.0              650.0  36 months   \n",
      "88046       88023         4400         4400.0             1400.0  36 months   \n",
      "115606      87310        12800        12800.0             1000.0        NaN   \n",
      "76597       76583         5000         5000.0             1775.0  36 months   \n",
      "142608      74724         5000         5000.0             2350.0  36 months   \n",
      "117045      70978         3500         3500.0             2225.0  36 months   \n",
      "88854       70699         5000         5000.0              225.0  36 months   \n",
      "72323       70694         5000         5000.0              350.0  36 months   \n",
      "\n",
      "        int_rate  instalment grade sub_grade employment_length  ...  \\\n",
      "id                                                              ...   \n",
      "395632     13.16      185.74     C        C3          < 1 year  ...   \n",
      "90395       8.07      156.84     A        A4          < 1 year  ...   \n",
      "88637      10.59      195.28     C        C2          < 1 year  ...   \n",
      "88046       9.64      141.25     B        B4           2 years  ...   \n",
      "115606     15.01      443.81     F        F1            1 year  ...   \n",
      "76597       9.01      159.03     B        B2            1 year  ...   \n",
      "142608     10.59      162.73     C        C2          < 1 year  ...   \n",
      "117045      7.43      108.77     A        A2         10+ years  ...   \n",
      "88854       7.43      155.38     A        A2           4 years  ...   \n",
      "72323      11.54      164.98     C        C5           9 years  ...   \n",
      "\n",
      "       recoveries  collection_recovery_fee last_payment_date  \\\n",
      "id                                                             \n",
      "395632       0.00                     0.00          Oct-2016   \n",
      "90395        0.00                     0.00          Apr-2014   \n",
      "88637        0.00                     0.00          Jun-2016   \n",
      "88046        0.00                     0.00          Jun-2016   \n",
      "115606       0.00                     0.00          Jul-2014   \n",
      "76597        0.00                     0.00          Jul-2016   \n",
      "142608       0.00                     0.00          Oct-2016   \n",
      "117045       0.00                     0.00          Sep-2016   \n",
      "88854        0.00                     0.00          Mar-2014   \n",
      "72323      182.27                     1.84          Mar-2014   \n",
      "\n",
      "       last_payment_amount next_payment_date last_credit_pull_date  \\\n",
      "id                                                                   \n",
      "395632               85.66          Nov-2016              Apr-2021   \n",
      "90395                 0.00               NaN              Jun-2013   \n",
      "88637               197.36          Jul-2016              Oct-2020   \n",
      "88046               143.28          Jul-2016              Feb-2021   \n",
      "115606             9921.87          Aug-2014              Jun-2013   \n",
      "76597               160.61               NaN              Jul-2016   \n",
      "142608              490.01               NaN              Sep-2016   \n",
      "117045              110.58          Sep-2016              May-2013   \n",
      "88854                 0.00               NaN              May-2013   \n",
      "72323               164.97          Dec-2014              Jan-2015   \n",
      "\n",
      "       collections_12_mths_ex_med  mths_since_last_major_derog  policy_code  \\\n",
      "id                                                                            \n",
      "395632                        0.0                          NaN            1   \n",
      "90395                         NaN                          NaN            1   \n",
      "88637                         NaN                          NaN            1   \n",
      "88046                         NaN                          NaN            1   \n",
      "115606                        NaN                          NaN            1   \n",
      "76597                         NaN                          NaN            1   \n",
      "142608                        0.0                          NaN            1   \n",
      "117045                        NaN                          NaN            1   \n",
      "88854                         NaN                          NaN            1   \n",
      "72323                         NaN                          NaN            1   \n",
      "\n",
      "       application_type  \n",
      "id                       \n",
      "395632       INDIVIDUAL  \n",
      "90395        INDIVIDUAL  \n",
      "88637        INDIVIDUAL  \n",
      "88046        INDIVIDUAL  \n",
      "115606       INDIVIDUAL  \n",
      "76597        INDIVIDUAL  \n",
      "142608       INDIVIDUAL  \n",
      "117045       INDIVIDUAL  \n",
      "88854        INDIVIDUAL  \n",
      "72323        INDIVIDUAL  \n",
      "\n",
      "[10 rows x 39 columns]\n"
     ]
    }
   ],
   "source": [
    "print(table_of_loans.head(10))\n",
    "print(table_of_loans.tail(10))"
   ]
  },
  {
   "cell_type": "code",
   "execution_count": 155,
   "metadata": {},
   "outputs": [
    {
     "name": "stdout",
     "output_type": "stream",
     "text": [
      "<class 'pandas.core.frame.DataFrame'>\n",
      "Index: 54231 entries, 38676116 to 72323\n",
      "Data columns (total 39 columns):\n",
      " #   Column                       Non-Null Count  Dtype  \n",
      "---  ------                       --------------  -----  \n",
      " 0   member_id                    54231 non-null  int64  \n",
      " 1   loan_amount                  54231 non-null  int64  \n",
      " 2   funded_amount                51224 non-null  float64\n",
      " 3   funded_amount_inv            54231 non-null  float64\n",
      " 4   term                         49459 non-null  object \n",
      " 5   int_rate                     49062 non-null  float64\n",
      " 6   instalment                   54231 non-null  float64\n",
      " 7   grade                        54231 non-null  object \n",
      " 8   sub_grade                    54231 non-null  object \n",
      " 9   employment_length            52113 non-null  object \n",
      " 10  home_ownership               54231 non-null  object \n",
      " 11  annual_inc                   54231 non-null  float64\n",
      " 12  verification_status          54231 non-null  object \n",
      " 13  issue_date                   54231 non-null  object \n",
      " 14  loan_status                  54231 non-null  object \n",
      " 15  payment_plan                 54231 non-null  object \n",
      " 16  purpose                      54231 non-null  object \n",
      " 17  dti                          54231 non-null  float64\n",
      " 18  delinq_2yrs                  54231 non-null  int64  \n",
      " 19  earliest_credit_line         54231 non-null  object \n",
      " 20  inq_last_6mths               54231 non-null  int64  \n",
      " 21  mths_since_last_record       6181 non-null   float64\n",
      " 22  open_accounts                54231 non-null  int64  \n",
      " 23  total_accounts               54231 non-null  int64  \n",
      " 24  out_prncp                    54231 non-null  float64\n",
      " 25  out_prncp_inv                54231 non-null  float64\n",
      " 26  total_payment                54231 non-null  float64\n",
      " 27  total_rec_int                54231 non-null  float64\n",
      " 28  total_rec_late_fee           54231 non-null  float64\n",
      " 29  recoveries                   54231 non-null  float64\n",
      " 30  collection_recovery_fee      54231 non-null  float64\n",
      " 31  last_payment_date            54158 non-null  object \n",
      " 32  last_payment_amount          54231 non-null  float64\n",
      " 33  next_payment_date            21623 non-null  object \n",
      " 34  last_credit_pull_date        54224 non-null  object \n",
      " 35  collections_12_mths_ex_med   54180 non-null  float64\n",
      " 36  mths_since_last_major_derog  7499 non-null   float64\n",
      " 37  policy_code                  54231 non-null  int64  \n",
      " 38  application_type             54231 non-null  object \n",
      "dtypes: float64(17), int64(7), object(15)\n",
      "memory usage: 16.5+ MB\n",
      "None\n"
     ]
    }
   ],
   "source": [
    "print(table_of_loans.info())"
   ]
  },
  {
   "cell_type": "code",
   "execution_count": 156,
   "metadata": {},
   "outputs": [
    {
     "name": "stdout",
     "output_type": "stream",
     "text": [
      "          member_id   loan_amount  funded_amount  funded_amount_inv  \\\n",
      "count  5.423100e+04  54231.000000   51224.000000       54231.000000   \n",
      "mean   8.655350e+06  13333.076100   13229.509117       12952.622979   \n",
      "std    1.031281e+07   8082.196709    8019.017599        8099.473527   \n",
      "min    7.069400e+04    500.000000     500.000000           0.000000   \n",
      "25%    9.587720e+05   7000.000000    7000.000000        6700.000000   \n",
      "50%    8.709873e+06  12000.000000   12000.000000       11300.000000   \n",
      "75%    1.052714e+07  18000.000000   18000.000000       18000.000000   \n",
      "max    4.146185e+07  35000.000000   35000.000000       35000.000000   \n",
      "\n",
      "           int_rate    instalment    annual_inc           dti   delinq_2yrs  \\\n",
      "count  49062.000000  54231.000000  5.423100e+04  54231.000000  54231.000000   \n",
      "mean      13.507328    400.013953  7.222085e+04     15.867087      0.241799   \n",
      "std        4.392893    238.920012  5.158934e+04      7.623124      0.706706   \n",
      "min        5.420000     15.670000  3.300000e+03      0.000000      0.000000   \n",
      "25%       10.370000    224.205000  4.500000e+04     10.200000      0.000000   \n",
      "50%       13.160000    347.150000  6.100000e+04     15.600000      0.000000   \n",
      "75%       16.200000    527.550000  8.600000e+04     21.260000      0.000000   \n",
      "max       26.060000   1407.010000  2.039784e+06     39.910000     18.000000   \n",
      "\n",
      "       inq_last_6mths  ...  out_prncp_inv  total_payment  total_rec_int  \\\n",
      "count    54231.000000  ...   54231.000000   54231.000000   54231.000000   \n",
      "mean         0.893843  ...    2752.568147   12079.208480    2577.757101   \n",
      "std          1.261421  ...    5153.043643    8391.043845    2581.657345   \n",
      "min          0.000000  ...       0.000000       0.000000       0.000000   \n",
      "25%          0.000000  ...       0.000000    5895.210000     889.560000   \n",
      "50%          1.000000  ...       0.000000   10113.250000    1734.640000   \n",
      "75%          1.000000  ...    3394.980000   16272.895000    3323.765000   \n",
      "max         33.000000  ...   32399.940000   55758.222084   23062.450000   \n",
      "\n",
      "       total_rec_late_fee    recoveries  collection_recovery_fee  \\\n",
      "count        54231.000000  54231.000000             54231.000000   \n",
      "mean             0.901512     93.501288                10.859057   \n",
      "std              6.215792    630.843636               120.193950   \n",
      "min              0.000000      0.000000                 0.000000   \n",
      "25%              0.000000      0.000000                 0.000000   \n",
      "50%              0.000000      0.000000                 0.000000   \n",
      "75%              0.000000      0.000000                 0.000000   \n",
      "max            358.680000  27750.000000              7002.190000   \n",
      "\n",
      "       last_payment_amount  collections_12_mths_ex_med  \\\n",
      "count         54231.000000                54180.000000   \n",
      "mean           3130.706393                    0.004208   \n",
      "std            5323.801675                    0.070990   \n",
      "min               0.000000                    0.000000   \n",
      "25%             289.790000                    0.000000   \n",
      "50%             562.670000                    0.000000   \n",
      "75%            3738.120000                    0.000000   \n",
      "max           36115.200000                    4.000000   \n",
      "\n",
      "       mths_since_last_major_derog  policy_code  \n",
      "count                  7499.000000      54231.0  \n",
      "mean                     42.253634          1.0  \n",
      "std                      21.052360          0.0  \n",
      "min                       0.000000          1.0  \n",
      "25%                      26.000000          1.0  \n",
      "50%                      42.000000          1.0  \n",
      "75%                      59.000000          1.0  \n",
      "max                     146.000000          1.0  \n",
      "\n",
      "[8 rows x 24 columns]\n"
     ]
    }
   ],
   "source": [
    "print(table_of_loans.describe())"
   ]
  },
  {
   "cell_type": "code",
   "execution_count": 157,
   "metadata": {},
   "outputs": [
    {
     "name": "stdout",
     "output_type": "stream",
     "text": [
      "std loan_amount = 8082.196709213126, mean loan_amount = 13333.076100385388\n",
      "Max loan: 35000, Min loan:500\n"
     ]
    }
   ],
   "source": [
    "print(f\"std loan_amount = {table_of_loans['loan_amount'].std()}, mean loan_amount = {table_of_loans['loan_amount'].mean()}\")\n",
    "print(f\"Max loan: {table_of_loans['loan_amount'].max()}, Min loan:{table_of_loans['loan_amount'].min()}\")"
   ]
  },
  {
   "cell_type": "markdown",
   "metadata": {},
   "source": [
    "# Exploring the data"
   ]
  },
  {
   "cell_type": "code",
   "execution_count": 4,
   "metadata": {},
   "outputs": [],
   "source": [
    "table_of_loans = pd.read_csv('eda.csv')"
   ]
  },
  {
   "cell_type": "code",
   "execution_count": 5,
   "metadata": {},
   "outputs": [],
   "source": [
    "df_df = DataFrameInfo(table_of_loans)"
   ]
  },
  {
   "cell_type": "code",
   "execution_count": 160,
   "metadata": {},
   "outputs": [
    {
     "name": "stdout",
     "output_type": "stream",
     "text": [
      "id                               int64\n",
      "member_id                        int64\n",
      "loan_amount                      int64\n",
      "funded_amount                  float64\n",
      "funded_amount_inv              float64\n",
      "term                            object\n",
      "int_rate                       float64\n",
      "instalment                     float64\n",
      "grade                           object\n",
      "sub_grade                       object\n",
      "employment_length               object\n",
      "home_ownership                  object\n",
      "annual_inc                     float64\n",
      "verification_status             object\n",
      "issue_date                      object\n",
      "loan_status                     object\n",
      "payment_plan                    object\n",
      "purpose                         object\n",
      "dti                            float64\n",
      "delinq_2yrs                      int64\n",
      "earliest_credit_line            object\n",
      "inq_last_6mths                   int64\n",
      "mths_since_last_delinq         float64\n",
      "mths_since_last_record         float64\n",
      "open_accounts                    int64\n",
      "total_accounts                   int64\n",
      "out_prncp                      float64\n",
      "out_prncp_inv                  float64\n",
      "total_payment                  float64\n",
      "total_payment_inv              float64\n",
      "total_rec_prncp                float64\n",
      "total_rec_int                  float64\n",
      "total_rec_late_fee             float64\n",
      "recoveries                     float64\n",
      "collection_recovery_fee        float64\n",
      "last_payment_date               object\n",
      "last_payment_amount            float64\n",
      "next_payment_date               object\n",
      "last_credit_pull_date           object\n",
      "collections_12_mths_ex_med     float64\n",
      "mths_since_last_major_derog    float64\n",
      "policy_code                      int64\n",
      "application_type                object\n",
      "dtype: object\n",
      "\n"
     ]
    },
    {
     "data": {
      "text/html": [
       "<div>\n",
       "<style scoped>\n",
       "    .dataframe tbody tr th:only-of-type {\n",
       "        vertical-align: middle;\n",
       "    }\n",
       "\n",
       "    .dataframe tbody tr th {\n",
       "        vertical-align: top;\n",
       "    }\n",
       "\n",
       "    .dataframe thead th {\n",
       "        text-align: right;\n",
       "    }\n",
       "</style>\n",
       "<table border=\"1\" class=\"dataframe\">\n",
       "  <thead>\n",
       "    <tr style=\"text-align: right;\">\n",
       "      <th></th>\n",
       "      <th>column</th>\n",
       "      <th>count</th>\n",
       "      <th>% null count</th>\n",
       "    </tr>\n",
       "  </thead>\n",
       "  <tbody>\n",
       "    <tr>\n",
       "      <th>0</th>\n",
       "      <td>id</td>\n",
       "      <td>54231</td>\n",
       "      <td>0.000000</td>\n",
       "    </tr>\n",
       "    <tr>\n",
       "      <th>1</th>\n",
       "      <td>member_id</td>\n",
       "      <td>54231</td>\n",
       "      <td>0.000000</td>\n",
       "    </tr>\n",
       "    <tr>\n",
       "      <th>2</th>\n",
       "      <td>loan_amount</td>\n",
       "      <td>54231</td>\n",
       "      <td>0.000000</td>\n",
       "    </tr>\n",
       "    <tr>\n",
       "      <th>3</th>\n",
       "      <td>funded_amount</td>\n",
       "      <td>51224</td>\n",
       "      <td>5.544799</td>\n",
       "    </tr>\n",
       "    <tr>\n",
       "      <th>4</th>\n",
       "      <td>funded_amount_inv</td>\n",
       "      <td>54231</td>\n",
       "      <td>0.000000</td>\n",
       "    </tr>\n",
       "    <tr>\n",
       "      <th>5</th>\n",
       "      <td>term</td>\n",
       "      <td>49459</td>\n",
       "      <td>8.799395</td>\n",
       "    </tr>\n",
       "    <tr>\n",
       "      <th>6</th>\n",
       "      <td>int_rate</td>\n",
       "      <td>49062</td>\n",
       "      <td>9.531449</td>\n",
       "    </tr>\n",
       "    <tr>\n",
       "      <th>7</th>\n",
       "      <td>instalment</td>\n",
       "      <td>54231</td>\n",
       "      <td>0.000000</td>\n",
       "    </tr>\n",
       "    <tr>\n",
       "      <th>8</th>\n",
       "      <td>grade</td>\n",
       "      <td>54231</td>\n",
       "      <td>0.000000</td>\n",
       "    </tr>\n",
       "    <tr>\n",
       "      <th>9</th>\n",
       "      <td>sub_grade</td>\n",
       "      <td>54231</td>\n",
       "      <td>0.000000</td>\n",
       "    </tr>\n",
       "    <tr>\n",
       "      <th>10</th>\n",
       "      <td>employment_length</td>\n",
       "      <td>52113</td>\n",
       "      <td>3.905515</td>\n",
       "    </tr>\n",
       "    <tr>\n",
       "      <th>11</th>\n",
       "      <td>home_ownership</td>\n",
       "      <td>54231</td>\n",
       "      <td>0.000000</td>\n",
       "    </tr>\n",
       "    <tr>\n",
       "      <th>12</th>\n",
       "      <td>annual_inc</td>\n",
       "      <td>54231</td>\n",
       "      <td>0.000000</td>\n",
       "    </tr>\n",
       "    <tr>\n",
       "      <th>13</th>\n",
       "      <td>verification_status</td>\n",
       "      <td>54231</td>\n",
       "      <td>0.000000</td>\n",
       "    </tr>\n",
       "    <tr>\n",
       "      <th>14</th>\n",
       "      <td>issue_date</td>\n",
       "      <td>54231</td>\n",
       "      <td>0.000000</td>\n",
       "    </tr>\n",
       "    <tr>\n",
       "      <th>15</th>\n",
       "      <td>loan_status</td>\n",
       "      <td>54231</td>\n",
       "      <td>0.000000</td>\n",
       "    </tr>\n",
       "    <tr>\n",
       "      <th>16</th>\n",
       "      <td>payment_plan</td>\n",
       "      <td>54231</td>\n",
       "      <td>0.000000</td>\n",
       "    </tr>\n",
       "    <tr>\n",
       "      <th>17</th>\n",
       "      <td>purpose</td>\n",
       "      <td>54231</td>\n",
       "      <td>0.000000</td>\n",
       "    </tr>\n",
       "    <tr>\n",
       "      <th>18</th>\n",
       "      <td>dti</td>\n",
       "      <td>54231</td>\n",
       "      <td>0.000000</td>\n",
       "    </tr>\n",
       "    <tr>\n",
       "      <th>19</th>\n",
       "      <td>delinq_2yrs</td>\n",
       "      <td>54231</td>\n",
       "      <td>0.000000</td>\n",
       "    </tr>\n",
       "    <tr>\n",
       "      <th>20</th>\n",
       "      <td>earliest_credit_line</td>\n",
       "      <td>54231</td>\n",
       "      <td>0.000000</td>\n",
       "    </tr>\n",
       "    <tr>\n",
       "      <th>21</th>\n",
       "      <td>inq_last_6mths</td>\n",
       "      <td>54231</td>\n",
       "      <td>0.000000</td>\n",
       "    </tr>\n",
       "    <tr>\n",
       "      <th>22</th>\n",
       "      <td>mths_since_last_delinq</td>\n",
       "      <td>23229</td>\n",
       "      <td>57.166565</td>\n",
       "    </tr>\n",
       "    <tr>\n",
       "      <th>23</th>\n",
       "      <td>mths_since_last_record</td>\n",
       "      <td>6181</td>\n",
       "      <td>88.602460</td>\n",
       "    </tr>\n",
       "    <tr>\n",
       "      <th>24</th>\n",
       "      <td>open_accounts</td>\n",
       "      <td>54231</td>\n",
       "      <td>0.000000</td>\n",
       "    </tr>\n",
       "    <tr>\n",
       "      <th>25</th>\n",
       "      <td>total_accounts</td>\n",
       "      <td>54231</td>\n",
       "      <td>0.000000</td>\n",
       "    </tr>\n",
       "    <tr>\n",
       "      <th>26</th>\n",
       "      <td>out_prncp</td>\n",
       "      <td>54231</td>\n",
       "      <td>0.000000</td>\n",
       "    </tr>\n",
       "    <tr>\n",
       "      <th>27</th>\n",
       "      <td>out_prncp_inv</td>\n",
       "      <td>54231</td>\n",
       "      <td>0.000000</td>\n",
       "    </tr>\n",
       "    <tr>\n",
       "      <th>28</th>\n",
       "      <td>total_payment</td>\n",
       "      <td>54231</td>\n",
       "      <td>0.000000</td>\n",
       "    </tr>\n",
       "    <tr>\n",
       "      <th>29</th>\n",
       "      <td>total_payment_inv</td>\n",
       "      <td>54231</td>\n",
       "      <td>0.000000</td>\n",
       "    </tr>\n",
       "    <tr>\n",
       "      <th>30</th>\n",
       "      <td>total_rec_prncp</td>\n",
       "      <td>54231</td>\n",
       "      <td>0.000000</td>\n",
       "    </tr>\n",
       "    <tr>\n",
       "      <th>31</th>\n",
       "      <td>total_rec_int</td>\n",
       "      <td>54231</td>\n",
       "      <td>0.000000</td>\n",
       "    </tr>\n",
       "    <tr>\n",
       "      <th>32</th>\n",
       "      <td>total_rec_late_fee</td>\n",
       "      <td>54231</td>\n",
       "      <td>0.000000</td>\n",
       "    </tr>\n",
       "    <tr>\n",
       "      <th>33</th>\n",
       "      <td>recoveries</td>\n",
       "      <td>54231</td>\n",
       "      <td>0.000000</td>\n",
       "    </tr>\n",
       "    <tr>\n",
       "      <th>34</th>\n",
       "      <td>collection_recovery_fee</td>\n",
       "      <td>54231</td>\n",
       "      <td>0.000000</td>\n",
       "    </tr>\n",
       "    <tr>\n",
       "      <th>35</th>\n",
       "      <td>last_payment_date</td>\n",
       "      <td>54158</td>\n",
       "      <td>0.134609</td>\n",
       "    </tr>\n",
       "    <tr>\n",
       "      <th>36</th>\n",
       "      <td>last_payment_amount</td>\n",
       "      <td>54231</td>\n",
       "      <td>0.000000</td>\n",
       "    </tr>\n",
       "    <tr>\n",
       "      <th>37</th>\n",
       "      <td>next_payment_date</td>\n",
       "      <td>21623</td>\n",
       "      <td>60.127971</td>\n",
       "    </tr>\n",
       "    <tr>\n",
       "      <th>38</th>\n",
       "      <td>last_credit_pull_date</td>\n",
       "      <td>54224</td>\n",
       "      <td>0.012908</td>\n",
       "    </tr>\n",
       "    <tr>\n",
       "      <th>39</th>\n",
       "      <td>collections_12_mths_ex_med</td>\n",
       "      <td>54180</td>\n",
       "      <td>0.094042</td>\n",
       "    </tr>\n",
       "    <tr>\n",
       "      <th>40</th>\n",
       "      <td>mths_since_last_major_derog</td>\n",
       "      <td>7499</td>\n",
       "      <td>86.172116</td>\n",
       "    </tr>\n",
       "    <tr>\n",
       "      <th>41</th>\n",
       "      <td>policy_code</td>\n",
       "      <td>54231</td>\n",
       "      <td>0.000000</td>\n",
       "    </tr>\n",
       "    <tr>\n",
       "      <th>42</th>\n",
       "      <td>application_type</td>\n",
       "      <td>54231</td>\n",
       "      <td>0.000000</td>\n",
       "    </tr>\n",
       "  </tbody>\n",
       "</table>\n",
       "</div>"
      ],
      "text/plain": [
       "                         column  count  % null count\n",
       "0                            id  54231      0.000000\n",
       "1                     member_id  54231      0.000000\n",
       "2                   loan_amount  54231      0.000000\n",
       "3                 funded_amount  51224      5.544799\n",
       "4             funded_amount_inv  54231      0.000000\n",
       "5                          term  49459      8.799395\n",
       "6                      int_rate  49062      9.531449\n",
       "7                    instalment  54231      0.000000\n",
       "8                         grade  54231      0.000000\n",
       "9                     sub_grade  54231      0.000000\n",
       "10            employment_length  52113      3.905515\n",
       "11               home_ownership  54231      0.000000\n",
       "12                   annual_inc  54231      0.000000\n",
       "13          verification_status  54231      0.000000\n",
       "14                   issue_date  54231      0.000000\n",
       "15                  loan_status  54231      0.000000\n",
       "16                 payment_plan  54231      0.000000\n",
       "17                      purpose  54231      0.000000\n",
       "18                          dti  54231      0.000000\n",
       "19                  delinq_2yrs  54231      0.000000\n",
       "20         earliest_credit_line  54231      0.000000\n",
       "21               inq_last_6mths  54231      0.000000\n",
       "22       mths_since_last_delinq  23229     57.166565\n",
       "23       mths_since_last_record   6181     88.602460\n",
       "24                open_accounts  54231      0.000000\n",
       "25               total_accounts  54231      0.000000\n",
       "26                    out_prncp  54231      0.000000\n",
       "27                out_prncp_inv  54231      0.000000\n",
       "28                total_payment  54231      0.000000\n",
       "29            total_payment_inv  54231      0.000000\n",
       "30              total_rec_prncp  54231      0.000000\n",
       "31                total_rec_int  54231      0.000000\n",
       "32           total_rec_late_fee  54231      0.000000\n",
       "33                   recoveries  54231      0.000000\n",
       "34      collection_recovery_fee  54231      0.000000\n",
       "35            last_payment_date  54158      0.134609\n",
       "36          last_payment_amount  54231      0.000000\n",
       "37            next_payment_date  21623     60.127971\n",
       "38        last_credit_pull_date  54224      0.012908\n",
       "39   collections_12_mths_ex_med  54180      0.094042\n",
       "40  mths_since_last_major_derog   7499     86.172116\n",
       "41                  policy_code  54231      0.000000\n",
       "42             application_type  54231      0.000000"
      ]
     },
     "execution_count": 160,
     "metadata": {},
     "output_type": "execute_result"
    }
   ],
   "source": [
    "print(df_df.check_column_datatypes())\n",
    "print('')\n",
    "df_df.num_of_nulls()\n"
   ]
  },
  {
   "cell_type": "code",
   "execution_count": 161,
   "metadata": {},
   "outputs": [
    {
     "name": "stdout",
     "output_type": "stream",
     "text": [
      "The no. of Unique Items in grade    7\n",
      "dtype: int64\n",
      "\n",
      "Statistics for Col: loan_amount\n",
      "count    54231.000000\n",
      "mean     13333.076100\n",
      "std       8082.196709\n",
      "min        500.000000\n",
      "25%       7000.000000\n",
      "50%      12000.000000\n",
      "75%      18000.000000\n",
      "max      35000.000000\n",
      "Name: loan_amount, dtype: float64\n",
      " \n",
      "Shape of DataFrame: [54231 rows x 43 columns]\n",
      "\n"
     ]
    }
   ],
   "source": [
    "print(f\"The no. of Unique Items in {df_df.count_unique_categories(['grade'])}\")\n",
    "print('')\n",
    "print(df_df.extract_statistical_values(['loan_amount']))\n",
    "print(' ')\n",
    "df_df.shape_of_dataframe()"
   ]
  },
  {
   "cell_type": "markdown",
   "metadata": {},
   "source": [
    "# Transforming pt 1"
   ]
  },
  {
   "cell_type": "markdown",
   "metadata": {},
   "source": [
    "### The below explains the transformation for the Transform code that follows:\n",
    "\n",
    "- to_boolean: transforms 'n' to false and y to true in the payment plan column (prints [True] as the only unique value in the dataframe column)\n",
    "\n",
    "- to_object: The columns in the to_object list created above are converted to objects as their numerical value doesn't impact the loan data information\n",
    "\n",
    "- to_category: uses a list of columns and transforms them into catagories\n",
    "\n",
    "- string_to_dates: Transforms the column string in the string_month_and_year list to a datetime format YearMonth\n",
    "\n",
    "- extract_integer_from_string: extracts any intergers found in a string\n",
    "\n",
    "- to_numerical_column: converts integers to numerical values\n",
    "\n",
    "- drop_column: Uses the drop_cols list to remove columns from the data\n",
    "\n",
    "- to_interger: Converts values to integers\n",
    "\n",
    "- to_rounded_float: rounds float values to 2 d.p.\n",
    "\n",
    "- save_transformed_data: saves a transformed version of the data\n",
    "\n",
    "### Deciding what to drop\n",
    "1. funded_amount is missing some data but contains the same data as funded_amount_inv, so we can drop it\n",
    "1. out_prncp_inv contains the same data as out_prncp, so we can drop it\n",
    "1. total_payment_inv contains the same data as total_payment, so we can drop it\n",
    "1. application_type and policy_code are the same for everyone and doesn't provide us with much info\n"
   ]
  },
  {
   "cell_type": "code",
   "execution_count": 6,
   "metadata": {},
   "outputs": [],
   "source": [
    "Transform = DataTransform(table_of_loans)"
   ]
  },
  {
   "cell_type": "code",
   "execution_count": 7,
   "metadata": {},
   "outputs": [
    {
     "name": "stdout",
     "output_type": "stream",
     "text": [
      "[ True]\n"
     ]
    }
   ],
   "source": [
    "Transform.to_boolean('payment_plan')\n",
    "\n",
    "to_object_columns = ['id', 'member_id', 'policy_code']\n",
    "Transform.to_object(to_object_columns)\n",
    "\n",
    "convert_categories = ['grade', 'sub_grade', 'home_ownership', 'verification_status', 'loan_status', 'purpose', 'employment_length']\n",
    "Transform.to_category(convert_categories)\n",
    "\n",
    "string_month_and_year = ['last_credit_pull_date', 'next_payment_date', 'last_payment_date', 'earliest_credit_line', 'issue_date']\n",
    "Transform.strings_to_dates(string_month_and_year)\n",
    "\n",
    "string_numbers = ['term']\n",
    "Transform.extract_integer_from_string(string_numbers)\n",
    "\n",
    "numericals = ['term', 'mths_since_last_record', 'mths_since_last_major_derog', 'mths_since_last_delinq', 'mths_since_last_record']\n",
    "Transform.to_numerical_column(numericals)\n",
    "\n",
    "drop_cols = ['funded_amount', 'application_type', 'policy_code', 'out_prncp_inv', 'total_payment_inv']\n",
    "Transform.drop_column(drop_cols)\n",
    "\n",
    "int_numbers = ['loan_amount', 'funded_amount_inv', 'annual_inc', 'term', 'open_accounts', 'total_accounts', 'collections_12_mths_ex_med', 'mths_since_last_delinq', 'mths_since_last_major_derog']\n",
    "Transform.to_interger(int_numbers)\n",
    "\n",
    "Transform.to_rounded_float('collection_recovery_fee', 2)\n",
    "\n",
    "Transform.save_full_data('full_loan_data.csv')"
   ]
  },
  {
   "cell_type": "markdown",
   "metadata": {},
   "source": [
    "# Transforming pt 2"
   ]
  },
  {
   "cell_type": "code",
   "execution_count": 8,
   "metadata": {},
   "outputs": [],
   "source": [
    "table_of_loans = pd.read_csv('full_loan_data.csv')\n",
    "df_cols = DataFrameTransform(table_of_loans)"
   ]
  },
  {
   "cell_type": "code",
   "execution_count": 17,
   "metadata": {},
   "outputs": [],
   "source": [
    "plot = Plotter(table_of_loans)"
   ]
  },
  {
   "cell_type": "markdown",
   "metadata": {},
   "source": [
    "#### Here we want to visualise the number of null values and the correct them via imputation or dropping. Then we can re-visualise the data."
   ]
  },
  {
   "cell_type": "code",
   "execution_count": 12,
   "metadata": {},
   "outputs": [
    {
     "name": "stdout",
     "output_type": "stream",
     "text": [
      "                        column  count  % null count\n",
      "0                           id  54151           0.0\n",
      "1                    member_id  54151           0.0\n",
      "2                  loan_amount  54151           0.0\n",
      "3            funded_amount_inv  54151           0.0\n",
      "4                         term  54151           0.0\n",
      "5                     int_rate  54151           0.0\n",
      "6                   instalment  54151           0.0\n",
      "7                        grade  54151           0.0\n",
      "8                    sub_grade  54151           0.0\n",
      "9            employment_length  54151           0.0\n",
      "10              home_ownership  54151           0.0\n",
      "11                  annual_inc  54151           0.0\n",
      "12         verification_status  54151           0.0\n",
      "13                  issue_date  54151           0.0\n",
      "14                 loan_status  54151           0.0\n",
      "15                payment_plan  54151           0.0\n",
      "16                     purpose  54151           0.0\n",
      "17                         dti  54151           0.0\n",
      "18                 delinq_2yrs  54151           0.0\n",
      "19        earliest_credit_line  54151           0.0\n",
      "20              inq_last_6mths  54151           0.0\n",
      "21               open_accounts  54151           0.0\n",
      "22              total_accounts  54151           0.0\n",
      "23                   out_prncp  54151           0.0\n",
      "24               total_payment  54151           0.0\n",
      "25             total_rec_prncp  54151           0.0\n",
      "26               total_rec_int  54151           0.0\n",
      "27          total_rec_late_fee  54151           0.0\n",
      "28                  recoveries  54151           0.0\n",
      "29     collection_recovery_fee  54151           0.0\n",
      "30           last_payment_date  54151           0.0\n",
      "31         last_payment_amount  54151           0.0\n",
      "32       last_credit_pull_date  54151           0.0\n",
      "33  collections_12_mths_ex_med  54151           0.0\n"
     ]
    }
   ],
   "source": [
    "print(df_cols.num_of_nulls())"
   ]
  },
  {
   "cell_type": "code",
   "execution_count": 11,
   "metadata": {},
   "outputs": [],
   "source": [
    "df_cols.impute_zeros(['employment_length'])\n",
    "df_cols.impute_median(['int_rate'])\n",
    "df_cols.drop_null_rows(['last_payment_date', 'last_credit_pull_date'])\n",
    "df_cols.drop_column(['mths_since_last_delinq', 'next_payment_date', 'mths_since_last_record', 'mths_since_last_major_derog'])"
   ]
  },
  {
   "cell_type": "markdown",
   "metadata": {},
   "source": [
    "- Missing values in employment_length can be assumed to be unemployment\n",
    "\n",
    "- Missing values in int_rate may be needed so we impute to median values as it is less affected by outliers than mean\n",
    "\n",
    "- Data missing in last_payment_date and last_credit_pull_date is too small to impact much, so we remove the rows\n",
    "\n",
    "- Data missing from 57%-88%, so drop column (mths_since_last_delinq, next_payment_date, mths_since_last_record & mths_since_last_major_derog)\n"
   ]
  },
  {
   "cell_type": "code",
   "execution_count": 18,
   "metadata": {},
   "outputs": [
    {
     "ename": "ValueError",
     "evalue": "keyword grid_b is not recognized; valid keywords are ['size', 'width', 'color', 'tickdir', 'pad', 'labelsize', 'labelcolor', 'labelfontfamily', 'zorder', 'gridOn', 'tick1On', 'tick2On', 'label1On', 'label2On', 'length', 'direction', 'left', 'bottom', 'right', 'top', 'labelleft', 'labelbottom', 'labelright', 'labeltop', 'labelrotation', 'grid_agg_filter', 'grid_alpha', 'grid_animated', 'grid_antialiased', 'grid_clip_box', 'grid_clip_on', 'grid_clip_path', 'grid_color', 'grid_dash_capstyle', 'grid_dash_joinstyle', 'grid_dashes', 'grid_data', 'grid_drawstyle', 'grid_figure', 'grid_fillstyle', 'grid_gapcolor', 'grid_gid', 'grid_in_layout', 'grid_label', 'grid_linestyle', 'grid_linewidth', 'grid_marker', 'grid_markeredgecolor', 'grid_markeredgewidth', 'grid_markerfacecolor', 'grid_markerfacecoloralt', 'grid_markersize', 'grid_markevery', 'grid_mouseover', 'grid_path_effects', 'grid_picker', 'grid_pickradius', 'grid_rasterized', 'grid_sketch_params', 'grid_snap', 'grid_solid_capstyle', 'grid_solid_joinstyle', 'grid_transform', 'grid_url', 'grid_visible', 'grid_xdata', 'grid_ydata', 'grid_zorder', 'grid_aa', 'grid_c', 'grid_ds', 'grid_ls', 'grid_lw', 'grid_mec', 'grid_mew', 'grid_mfc', 'grid_mfcalt', 'grid_ms']",
     "output_type": "error",
     "traceback": [
      "\u001b[0;31m---------------------------------------------------------------------------\u001b[0m",
      "\u001b[0;31mValueError\u001b[0m                                Traceback (most recent call last)",
      "Cell \u001b[0;32mIn[18], line 1\u001b[0m\n\u001b[0;32m----> 1\u001b[0m \u001b[43mplot\u001b[49m\u001b[38;5;241;43m.\u001b[39;49m\u001b[43mshow_missing_nulls\u001b[49m\u001b[43m(\u001b[49m\u001b[43m)\u001b[49m\n",
      "File \u001b[0;32m~/Ai Core/EDA/exploratory-data-analysis---customer-loans-in-finance334/plot.py:359\u001b[0m, in \u001b[0;36mPlotter.show_missing_nulls\u001b[0;34m(self)\u001b[0m\n\u001b[1;32m    351\u001b[0m \u001b[38;5;28;01mdef\u001b[39;00m \u001b[38;5;21mshow_missing_nulls\u001b[39m(\u001b[38;5;28mself\u001b[39m):\n\u001b[1;32m    352\u001b[0m \u001b[38;5;250m    \u001b[39m\u001b[38;5;124;03m'''\u001b[39;00m\n\u001b[1;32m    353\u001b[0m \u001b[38;5;124;03m    This method is used to plot the missing values of the dataframe.\u001b[39;00m\n\u001b[1;32m    354\u001b[0m \n\u001b[0;32m   (...)\u001b[0m\n\u001b[1;32m    357\u001b[0m \u001b[38;5;124;03m        A matrix of the number of NUll/missing values.\u001b[39;00m\n\u001b[1;32m    358\u001b[0m \u001b[38;5;124;03m    '''\u001b[39;00m\n\u001b[0;32m--> 359\u001b[0m     \u001b[43mmsno\u001b[49m\u001b[38;5;241;43m.\u001b[39;49m\u001b[43mmatrix\u001b[49m\u001b[43m(\u001b[49m\u001b[38;5;28;43mself\u001b[39;49m\u001b[38;5;241;43m.\u001b[39;49m\u001b[43mdf_transform\u001b[49m\u001b[43m)\u001b[49m\n\u001b[1;32m    360\u001b[0m     plt\u001b[38;5;241m.\u001b[39mshow()\n",
      "File \u001b[0;32m~/miniconda/envs/eda2/lib/python3.12/site-packages/missingno/missingno.py:72\u001b[0m, in \u001b[0;36mmatrix\u001b[0;34m(df, filter, n, p, sort, figsize, width_ratios, color, fontsize, labels, sparkline, inline, freq, ax)\u001b[0m\n\u001b[1;32m     70\u001b[0m \u001b[38;5;66;03m# Remove extraneous default visual elements.\u001b[39;00m\n\u001b[1;32m     71\u001b[0m ax0\u001b[38;5;241m.\u001b[39mset_aspect(\u001b[38;5;124m'\u001b[39m\u001b[38;5;124mauto\u001b[39m\u001b[38;5;124m'\u001b[39m)\n\u001b[0;32m---> 72\u001b[0m \u001b[43max0\u001b[49m\u001b[38;5;241;43m.\u001b[39;49m\u001b[43mgrid\u001b[49m\u001b[43m(\u001b[49m\u001b[43mb\u001b[49m\u001b[38;5;241;43m=\u001b[39;49m\u001b[38;5;28;43;01mFalse\u001b[39;49;00m\u001b[43m)\u001b[49m\n\u001b[1;32m     73\u001b[0m ax0\u001b[38;5;241m.\u001b[39mxaxis\u001b[38;5;241m.\u001b[39mtick_top()\n\u001b[1;32m     74\u001b[0m ax0\u001b[38;5;241m.\u001b[39mxaxis\u001b[38;5;241m.\u001b[39mset_ticks_position(\u001b[38;5;124m'\u001b[39m\u001b[38;5;124mnone\u001b[39m\u001b[38;5;124m'\u001b[39m)\n",
      "File \u001b[0;32m~/miniconda/envs/eda2/lib/python3.12/site-packages/matplotlib/axes/_base.py:3196\u001b[0m, in \u001b[0;36m_AxesBase.grid\u001b[0;34m(self, visible, which, axis, **kwargs)\u001b[0m\n\u001b[1;32m   3194\u001b[0m _api\u001b[38;5;241m.\u001b[39mcheck_in_list([\u001b[38;5;124m'\u001b[39m\u001b[38;5;124mx\u001b[39m\u001b[38;5;124m'\u001b[39m, \u001b[38;5;124m'\u001b[39m\u001b[38;5;124my\u001b[39m\u001b[38;5;124m'\u001b[39m, \u001b[38;5;124m'\u001b[39m\u001b[38;5;124mboth\u001b[39m\u001b[38;5;124m'\u001b[39m], axis\u001b[38;5;241m=\u001b[39maxis)\n\u001b[1;32m   3195\u001b[0m \u001b[38;5;28;01mif\u001b[39;00m axis \u001b[38;5;129;01min\u001b[39;00m [\u001b[38;5;124m'\u001b[39m\u001b[38;5;124mx\u001b[39m\u001b[38;5;124m'\u001b[39m, \u001b[38;5;124m'\u001b[39m\u001b[38;5;124mboth\u001b[39m\u001b[38;5;124m'\u001b[39m]:\n\u001b[0;32m-> 3196\u001b[0m     \u001b[38;5;28;43mself\u001b[39;49m\u001b[38;5;241;43m.\u001b[39;49m\u001b[43mxaxis\u001b[49m\u001b[38;5;241;43m.\u001b[39;49m\u001b[43mgrid\u001b[49m\u001b[43m(\u001b[49m\u001b[43mvisible\u001b[49m\u001b[43m,\u001b[49m\u001b[43m \u001b[49m\u001b[43mwhich\u001b[49m\u001b[38;5;241;43m=\u001b[39;49m\u001b[43mwhich\u001b[49m\u001b[43m,\u001b[49m\u001b[43m \u001b[49m\u001b[38;5;241;43m*\u001b[39;49m\u001b[38;5;241;43m*\u001b[39;49m\u001b[43mkwargs\u001b[49m\u001b[43m)\u001b[49m\n\u001b[1;32m   3197\u001b[0m \u001b[38;5;28;01mif\u001b[39;00m axis \u001b[38;5;129;01min\u001b[39;00m [\u001b[38;5;124m'\u001b[39m\u001b[38;5;124my\u001b[39m\u001b[38;5;124m'\u001b[39m, \u001b[38;5;124m'\u001b[39m\u001b[38;5;124mboth\u001b[39m\u001b[38;5;124m'\u001b[39m]:\n\u001b[1;32m   3198\u001b[0m     \u001b[38;5;28mself\u001b[39m\u001b[38;5;241m.\u001b[39myaxis\u001b[38;5;241m.\u001b[39mgrid(visible, which\u001b[38;5;241m=\u001b[39mwhich, \u001b[38;5;241m*\u001b[39m\u001b[38;5;241m*\u001b[39mkwargs)\n",
      "File \u001b[0;32m~/miniconda/envs/eda2/lib/python3.12/site-packages/matplotlib/axis.py:1697\u001b[0m, in \u001b[0;36mAxis.grid\u001b[0;34m(self, visible, which, **kwargs)\u001b[0m\n\u001b[1;32m   1694\u001b[0m \u001b[38;5;28;01mif\u001b[39;00m which \u001b[38;5;129;01min\u001b[39;00m [\u001b[38;5;124m'\u001b[39m\u001b[38;5;124mmajor\u001b[39m\u001b[38;5;124m'\u001b[39m, \u001b[38;5;124m'\u001b[39m\u001b[38;5;124mboth\u001b[39m\u001b[38;5;124m'\u001b[39m]:\n\u001b[1;32m   1695\u001b[0m     gridkw[\u001b[38;5;124m'\u001b[39m\u001b[38;5;124mgridOn\u001b[39m\u001b[38;5;124m'\u001b[39m] \u001b[38;5;241m=\u001b[39m (\u001b[38;5;129;01mnot\u001b[39;00m \u001b[38;5;28mself\u001b[39m\u001b[38;5;241m.\u001b[39m_major_tick_kw[\u001b[38;5;124m'\u001b[39m\u001b[38;5;124mgridOn\u001b[39m\u001b[38;5;124m'\u001b[39m]\n\u001b[1;32m   1696\u001b[0m                         \u001b[38;5;28;01mif\u001b[39;00m visible \u001b[38;5;129;01mis\u001b[39;00m \u001b[38;5;28;01mNone\u001b[39;00m \u001b[38;5;28;01melse\u001b[39;00m visible)\n\u001b[0;32m-> 1697\u001b[0m     \u001b[38;5;28;43mself\u001b[39;49m\u001b[38;5;241;43m.\u001b[39;49m\u001b[43mset_tick_params\u001b[49m\u001b[43m(\u001b[49m\u001b[43mwhich\u001b[49m\u001b[38;5;241;43m=\u001b[39;49m\u001b[38;5;124;43m'\u001b[39;49m\u001b[38;5;124;43mmajor\u001b[39;49m\u001b[38;5;124;43m'\u001b[39;49m\u001b[43m,\u001b[49m\u001b[43m \u001b[49m\u001b[38;5;241;43m*\u001b[39;49m\u001b[38;5;241;43m*\u001b[39;49m\u001b[43mgridkw\u001b[49m\u001b[43m)\u001b[49m\n\u001b[1;32m   1698\u001b[0m \u001b[38;5;28mself\u001b[39m\u001b[38;5;241m.\u001b[39mstale \u001b[38;5;241m=\u001b[39m \u001b[38;5;28;01mTrue\u001b[39;00m\n",
      "File \u001b[0;32m~/miniconda/envs/eda2/lib/python3.12/site-packages/matplotlib/axis.py:958\u001b[0m, in \u001b[0;36mAxis.set_tick_params\u001b[0;34m(self, which, reset, **kwargs)\u001b[0m\n\u001b[1;32m    945\u001b[0m \u001b[38;5;250m\u001b[39m\u001b[38;5;124;03m\"\"\"\u001b[39;00m\n\u001b[1;32m    946\u001b[0m \u001b[38;5;124;03mSet appearance parameters for ticks, ticklabels, and gridlines.\u001b[39;00m\n\u001b[1;32m    947\u001b[0m \n\u001b[0;32m   (...)\u001b[0m\n\u001b[1;32m    955\u001b[0m \u001b[38;5;124;03m    gridlines.\u001b[39;00m\n\u001b[1;32m    956\u001b[0m \u001b[38;5;124;03m\"\"\"\u001b[39;00m\n\u001b[1;32m    957\u001b[0m _api\u001b[38;5;241m.\u001b[39mcheck_in_list([\u001b[38;5;124m'\u001b[39m\u001b[38;5;124mmajor\u001b[39m\u001b[38;5;124m'\u001b[39m, \u001b[38;5;124m'\u001b[39m\u001b[38;5;124mminor\u001b[39m\u001b[38;5;124m'\u001b[39m, \u001b[38;5;124m'\u001b[39m\u001b[38;5;124mboth\u001b[39m\u001b[38;5;124m'\u001b[39m], which\u001b[38;5;241m=\u001b[39mwhich)\n\u001b[0;32m--> 958\u001b[0m kwtrans \u001b[38;5;241m=\u001b[39m \u001b[38;5;28;43mself\u001b[39;49m\u001b[38;5;241;43m.\u001b[39;49m\u001b[43m_translate_tick_params\u001b[49m\u001b[43m(\u001b[49m\u001b[43mkwargs\u001b[49m\u001b[43m)\u001b[49m\n\u001b[1;32m    960\u001b[0m \u001b[38;5;66;03m# the kwargs are stored in self._major/minor_tick_kw so that any\u001b[39;00m\n\u001b[1;32m    961\u001b[0m \u001b[38;5;66;03m# future new ticks will automatically get them\u001b[39;00m\n\u001b[1;32m    962\u001b[0m \u001b[38;5;28;01mif\u001b[39;00m reset:\n",
      "File \u001b[0;32m~/miniconda/envs/eda2/lib/python3.12/site-packages/matplotlib/axis.py:1102\u001b[0m, in \u001b[0;36mAxis._translate_tick_params\u001b[0;34m(kw, reverse)\u001b[0m\n\u001b[1;32m   1100\u001b[0m \u001b[38;5;28;01mfor\u001b[39;00m key \u001b[38;5;129;01min\u001b[39;00m kw_:\n\u001b[1;32m   1101\u001b[0m     \u001b[38;5;28;01mif\u001b[39;00m key \u001b[38;5;129;01mnot\u001b[39;00m \u001b[38;5;129;01min\u001b[39;00m allowed_keys:\n\u001b[0;32m-> 1102\u001b[0m         \u001b[38;5;28;01mraise\u001b[39;00m \u001b[38;5;167;01mValueError\u001b[39;00m(\n\u001b[1;32m   1103\u001b[0m             \u001b[38;5;124m\"\u001b[39m\u001b[38;5;124mkeyword \u001b[39m\u001b[38;5;132;01m%s\u001b[39;00m\u001b[38;5;124m is not recognized; valid keywords are \u001b[39m\u001b[38;5;132;01m%s\u001b[39;00m\u001b[38;5;124m\"\u001b[39m\n\u001b[1;32m   1104\u001b[0m             \u001b[38;5;241m%\u001b[39m (key, allowed_keys))\n\u001b[1;32m   1105\u001b[0m kwtrans\u001b[38;5;241m.\u001b[39mupdate(kw_)\n\u001b[1;32m   1106\u001b[0m \u001b[38;5;28;01mreturn\u001b[39;00m kwtrans\n",
      "\u001b[0;31mValueError\u001b[0m: keyword grid_b is not recognized; valid keywords are ['size', 'width', 'color', 'tickdir', 'pad', 'labelsize', 'labelcolor', 'labelfontfamily', 'zorder', 'gridOn', 'tick1On', 'tick2On', 'label1On', 'label2On', 'length', 'direction', 'left', 'bottom', 'right', 'top', 'labelleft', 'labelbottom', 'labelright', 'labeltop', 'labelrotation', 'grid_agg_filter', 'grid_alpha', 'grid_animated', 'grid_antialiased', 'grid_clip_box', 'grid_clip_on', 'grid_clip_path', 'grid_color', 'grid_dash_capstyle', 'grid_dash_joinstyle', 'grid_dashes', 'grid_data', 'grid_drawstyle', 'grid_figure', 'grid_fillstyle', 'grid_gapcolor', 'grid_gid', 'grid_in_layout', 'grid_label', 'grid_linestyle', 'grid_linewidth', 'grid_marker', 'grid_markeredgecolor', 'grid_markeredgewidth', 'grid_markerfacecolor', 'grid_markerfacecoloralt', 'grid_markersize', 'grid_markevery', 'grid_mouseover', 'grid_path_effects', 'grid_picker', 'grid_pickradius', 'grid_rasterized', 'grid_sketch_params', 'grid_snap', 'grid_solid_capstyle', 'grid_solid_joinstyle', 'grid_transform', 'grid_url', 'grid_visible', 'grid_xdata', 'grid_ydata', 'grid_zorder', 'grid_aa', 'grid_c', 'grid_ds', 'grid_ls', 'grid_lw', 'grid_mec', 'grid_mew', 'grid_mfc', 'grid_mfcalt', 'grid_ms']"
     ]
    },
    {
     "data": {
      "image/png": "[encoded data removed]",
      "text/plain": [
       "<Figure size 2500x1000 with 2 Axes>"
      ]
     },
     "metadata": {},
     "output_type": "display_data"
    }
   ],
   "source": [
    "plot.show_missing_nulls()"
   ]
  },
  {
   "cell_type": "markdown",
   "metadata": {},
   "source": [
    "#### Save a version of data to use after the Outlier stage / Milestone 4 later on"
   ]
  },
  {
   "cell_type": "code",
   "execution_count": 14,
   "metadata": {},
   "outputs": [],
   "source": [
    "df_cols.save_untransformed_data('untransformed_loan_data.csv')"
   ]
  },
  {
   "cell_type": "code",
   "execution_count": 15,
   "metadata": {},
   "outputs": [
    {
     "name": "stdout",
     "output_type": "stream",
     "text": [
      "Statistics=1724.538, p=0.000\n"
     ]
    }
   ],
   "source": [
    "# testing int_rate\n",
    "int_rate_data = table_of_loans['int_rate']\n",
    "\n",
    "# D’Agostino’s K^2 Test\n",
    "stat, p = normaltest(int_rate_data, nan_policy='omit')\n",
    "print('Statistics=%.3f, p=%.3f' % (stat, p))"
   ]
  },
  {
   "cell_type": "markdown",
   "metadata": {},
   "source": [
    "## Visualising the Data\n",
    "#### This will allow us to loook for skews"
   ]
  },
  {
   "cell_type": "code",
   "execution_count": 19,
   "metadata": {},
   "outputs": [
    {
     "ename": "NameError",
     "evalue": "name 'table_of_loans' is not defined",
     "output_type": "error",
     "traceback": [
      "\u001b[0;31m---------------------------------------------------------------------------\u001b[0m",
      "\u001b[0;31mNameError\u001b[0m                                 Traceback (most recent call last)",
      "Cell \u001b[0;32mIn[19], line 1\u001b[0m\n\u001b[0;32m----> 1\u001b[0m \u001b[43mplot\u001b[49m\u001b[38;5;241;43m.\u001b[39;49m\u001b[43mmulti_plot\u001b[49m\u001b[43m(\u001b[49m\u001b[38;5;124;43m'\u001b[39;49m\u001b[38;5;124;43mtotal_payment\u001b[39;49m\u001b[38;5;124;43m'\u001b[39;49m\u001b[43m)\u001b[49m\n",
      "File \u001b[0;32m~/Ai Core/EDA/exploratory-data-analysis---customer-loans-in-finance334/plot.py:396\u001b[0m, in \u001b[0;36mPlotter.multi_plot\u001b[0;34m(self, col)\u001b[0m\n\u001b[1;32m    386\u001b[0m \u001b[38;5;28;01mdef\u001b[39;00m \u001b[38;5;21mmulti_plot\u001b[39m(\u001b[38;5;28mself\u001b[39m, col):\n\u001b[1;32m    387\u001b[0m \u001b[38;5;250m    \u001b[39m\u001b[38;5;124;03m'''\u001b[39;00m\n\u001b[1;32m    388\u001b[0m \u001b[38;5;124;03m    This method is used to calculate the mean, median, skewness and result of the agostino k2 test.\u001b[39;00m\n\u001b[1;32m    389\u001b[0m \u001b[38;5;124;03m    It also plots a blended histogram and density plot as well as plotting a qqplot of a specific column.\u001b[39;00m\n\u001b[0;32m   (...)\u001b[0m\n\u001b[1;32m    394\u001b[0m \u001b[38;5;124;03m        The column that will be plotted and measures of central tendency displayed.\u001b[39;00m\n\u001b[1;32m    395\u001b[0m \u001b[38;5;124;03m    '''\u001b[39;00m\n\u001b[0;32m--> 396\u001b[0m     \u001b[38;5;28mprint\u001b[39m(\u001b[38;5;124mf\u001b[39m\u001b[38;5;124m'\u001b[39m\u001b[38;5;124mThe median of \u001b[39m\u001b[38;5;132;01m{\u001b[39;00m[col]\u001b[38;5;132;01m}\u001b[39;00m\u001b[38;5;124m is \u001b[39m\u001b[38;5;132;01m{\u001b[39;00m\u001b[43mtable_of_loans\u001b[49m[col]\u001b[38;5;241m.\u001b[39mmedian()\u001b[38;5;132;01m}\u001b[39;00m\u001b[38;5;124m'\u001b[39m)\n\u001b[1;32m    397\u001b[0m     \u001b[38;5;28mprint\u001b[39m(\u001b[38;5;124mf\u001b[39m\u001b[38;5;124m'\u001b[39m\u001b[38;5;124mThe mean of \u001b[39m\u001b[38;5;132;01m{\u001b[39;00m[col]\u001b[38;5;132;01m}\u001b[39;00m\u001b[38;5;124m is \u001b[39m\u001b[38;5;132;01m{\u001b[39;00mtable_of_loans[col]\u001b[38;5;241m.\u001b[39mmean()\u001b[38;5;132;01m}\u001b[39;00m\u001b[38;5;124m'\u001b[39m)\n\u001b[1;32m    398\u001b[0m     \u001b[38;5;28mprint\u001b[39m(\u001b[38;5;124mf\u001b[39m\u001b[38;5;124m\"\u001b[39m\u001b[38;5;124mSkew of \u001b[39m\u001b[38;5;132;01m{\u001b[39;00m[col]\u001b[38;5;132;01m}\u001b[39;00m\u001b[38;5;124m column is \u001b[39m\u001b[38;5;132;01m{\u001b[39;00mtable_of_loans[col]\u001b[38;5;241m.\u001b[39mskew()\u001b[38;5;132;01m}\u001b[39;00m\u001b[38;5;124m\"\u001b[39m)\n",
      "\u001b[0;31mNameError\u001b[0m: name 'table_of_loans' is not defined"
     ]
    }
   ],
   "source": [
    "plot.multi_plot('total_payment')"
   ]
  },
  {
   "cell_type": "code",
   "execution_count": 152,
   "metadata": {},
   "outputs": [
    {
     "ename": "NameError",
     "evalue": "name 'table_of_loans' is not defined",
     "output_type": "error",
     "traceback": [
      "\u001b[0;31m---------------------------------------------------------------------------\u001b[0m",
      "\u001b[0;31mNameError\u001b[0m                                 Traceback (most recent call last)",
      "Cell \u001b[0;32mIn[152], line 1\u001b[0m\n\u001b[0;32m----> 1\u001b[0m \u001b[43mplot\u001b[49m\u001b[38;5;241;43m.\u001b[39;49m\u001b[43mmulti_plot\u001b[49m\u001b[43m(\u001b[49m\u001b[38;5;124;43m'\u001b[39;49m\u001b[38;5;124;43mfunded_amount_inv\u001b[39;49m\u001b[38;5;124;43m'\u001b[39;49m\u001b[43m)\u001b[49m\n",
      "File \u001b[0;32m~/Ai Core/EDA/exploratory-data-analysis---customer-loans-in-finance334/plot.py:190\u001b[0m, in \u001b[0;36mmulti_plot\u001b[0;34m(self, col)\u001b[0m\n\u001b[1;32m    183\u001b[0m \u001b[38;5;28;01mdef\u001b[39;00m \u001b[38;5;21msave_transformed_data\u001b[39m(\u001b[38;5;28mself\u001b[39m, filename\u001b[38;5;241m=\u001b[39m\u001b[38;5;124m'\u001b[39m\u001b[38;5;124mtransformed_loan_data.csv\u001b[39m\u001b[38;5;124m'\u001b[39m):\n\u001b[1;32m    184\u001b[0m \u001b[38;5;250m    \u001b[39m\u001b[38;5;124;03m'''\u001b[39;00m\n\u001b[1;32m    185\u001b[0m \u001b[38;5;124;03m    This method is used to save the current dataframe as a new CSV file called 'transformed_loan_data.csv'.\u001b[39;00m\n\u001b[1;32m    186\u001b[0m \n\u001b[1;32m    187\u001b[0m \u001b[38;5;124;03m    Parameters:\u001b[39;00m\n\u001b[1;32m    188\u001b[0m \u001b[38;5;124;03m    ----------\u001b[39;00m\n\u001b[1;32m    189\u001b[0m \u001b[38;5;124;03m    filename: str\u001b[39;00m\n\u001b[0;32m--> 190\u001b[0m \u001b[38;5;124;03m        The name that will be given to the saved CSV file.\u001b[39;00m\n\u001b[1;32m    191\u001b[0m \u001b[38;5;124;03m    '''\u001b[39;00m\n\u001b[1;32m    192\u001b[0m     \u001b[38;5;28mself\u001b[39m\u001b[38;5;241m.\u001b[39mdf_transform\u001b[38;5;241m.\u001b[39mto_csv(filename, index\u001b[38;5;241m=\u001b[39m\u001b[38;5;28;01mFalse\u001b[39;00m)\n",
      "\u001b[0;31mNameError\u001b[0m: name 'table_of_loans' is not defined"
     ]
    }
   ],
   "source": [
    "plot.multi_plot('funded_amount_inv')"
   ]
  },
  {
   "cell_type": "code",
   "execution_count": 20,
   "metadata": {},
   "outputs": [
    {
     "ename": "NameError",
     "evalue": "name 'table_of_loans' is not defined",
     "output_type": "error",
     "traceback": [
      "\u001b[0;31m---------------------------------------------------------------------------\u001b[0m",
      "\u001b[0;31mNameError\u001b[0m                                 Traceback (most recent call last)",
      "Cell \u001b[0;32mIn[20], line 1\u001b[0m\n\u001b[0;32m----> 1\u001b[0m \u001b[43mplot\u001b[49m\u001b[38;5;241;43m.\u001b[39;49m\u001b[43mmulti_plot\u001b[49m\u001b[43m(\u001b[49m\u001b[38;5;124;43m'\u001b[39;49m\u001b[38;5;124;43minstalment\u001b[39;49m\u001b[38;5;124;43m'\u001b[39;49m\u001b[43m)\u001b[49m\n",
      "File \u001b[0;32m~/Ai Core/EDA/exploratory-data-analysis---customer-loans-in-finance334/plot.py:396\u001b[0m, in \u001b[0;36mPlotter.multi_plot\u001b[0;34m(self, col)\u001b[0m\n\u001b[1;32m    386\u001b[0m \u001b[38;5;28;01mdef\u001b[39;00m \u001b[38;5;21mmulti_plot\u001b[39m(\u001b[38;5;28mself\u001b[39m, col):\n\u001b[1;32m    387\u001b[0m \u001b[38;5;250m    \u001b[39m\u001b[38;5;124;03m'''\u001b[39;00m\n\u001b[1;32m    388\u001b[0m \u001b[38;5;124;03m    This method is used to calculate the mean, median, skewness and result of the agostino k2 test.\u001b[39;00m\n\u001b[1;32m    389\u001b[0m \u001b[38;5;124;03m    It also plots a blended histogram and density plot as well as plotting a qqplot of a specific column.\u001b[39;00m\n\u001b[0;32m   (...)\u001b[0m\n\u001b[1;32m    394\u001b[0m \u001b[38;5;124;03m        The column that will be plotted and measures of central tendency displayed.\u001b[39;00m\n\u001b[1;32m    395\u001b[0m \u001b[38;5;124;03m    '''\u001b[39;00m\n\u001b[0;32m--> 396\u001b[0m     \u001b[38;5;28mprint\u001b[39m(\u001b[38;5;124mf\u001b[39m\u001b[38;5;124m'\u001b[39m\u001b[38;5;124mThe median of \u001b[39m\u001b[38;5;132;01m{\u001b[39;00m[col]\u001b[38;5;132;01m}\u001b[39;00m\u001b[38;5;124m is \u001b[39m\u001b[38;5;132;01m{\u001b[39;00m\u001b[43mtable_of_loans\u001b[49m[col]\u001b[38;5;241m.\u001b[39mmedian()\u001b[38;5;132;01m}\u001b[39;00m\u001b[38;5;124m'\u001b[39m)\n\u001b[1;32m    397\u001b[0m     \u001b[38;5;28mprint\u001b[39m(\u001b[38;5;124mf\u001b[39m\u001b[38;5;124m'\u001b[39m\u001b[38;5;124mThe mean of \u001b[39m\u001b[38;5;132;01m{\u001b[39;00m[col]\u001b[38;5;132;01m}\u001b[39;00m\u001b[38;5;124m is \u001b[39m\u001b[38;5;132;01m{\u001b[39;00mtable_of_loans[col]\u001b[38;5;241m.\u001b[39mmean()\u001b[38;5;132;01m}\u001b[39;00m\u001b[38;5;124m'\u001b[39m)\n\u001b[1;32m    398\u001b[0m     \u001b[38;5;28mprint\u001b[39m(\u001b[38;5;124mf\u001b[39m\u001b[38;5;124m\"\u001b[39m\u001b[38;5;124mSkew of \u001b[39m\u001b[38;5;132;01m{\u001b[39;00m[col]\u001b[38;5;132;01m}\u001b[39;00m\u001b[38;5;124m column is \u001b[39m\u001b[38;5;132;01m{\u001b[39;00mtable_of_loans[col]\u001b[38;5;241m.\u001b[39mskew()\u001b[38;5;132;01m}\u001b[39;00m\u001b[38;5;124m\"\u001b[39m)\n",
      "\u001b[0;31mNameError\u001b[0m: name 'table_of_loans' is not defined"
     ]
    }
   ],
   "source": [
    "plot.multi_plot('instalment')"
   ]
  },
  {
   "cell_type": "code",
   "execution_count": null,
   "metadata": {},
   "outputs": [],
   "source": [
    "plot.multi_plot('loan_amount')"
   ]
  },
  {
   "cell_type": "code",
   "execution_count": null,
   "metadata": {},
   "outputs": [],
   "source": [
    "plot.multi_plot('int_rate')"
   ]
  },
  {
   "cell_type": "markdown",
   "metadata": {},
   "source": [
    "- total_payments has a positive skew\n",
    "\n",
    "- funded_amount_inv had normal distribution\n",
    "\n",
    "- instalment is slightly skewed but close to a normal distribution\n",
    "\n",
    "- loan_amount has a slight positive skew\n",
    "\n",
    "- int_rate has normal distribution, mean and median are very similar (median imputation is valid)"
   ]
  },
  {
   "cell_type": "markdown",
   "metadata": {},
   "source": [
    "### Skewness with and without transformations\n",
    "\n",
    "#### Columns with a positive skew distribution and dont need transformation include:\n",
    "1. int_rate Skewness: 0.45661978102982004, with logtransformation= -0.38 and with boxcox transformation = 0.46"
   ]
  },
  {
   "cell_type": "code",
   "execution_count": null,
   "metadata": {},
   "outputs": [],
   "source": [
    "# skew data\n",
    "# normal skew?\n",
    "# Skew of int_rate column is 0.45661978102982004/// logt= -0.38/// boxcox = 0.46\n",
    "# Skew of total_accounts column is 0.7790400286166349/// logt= -0.68/// boxcox = 0.78\n",
    "# Skew of loan_amount column is 0.8049220181025606/// logt= -0.68/// boxcox = 0.80\n",
    "# Skew of funded_amount_inv column is 0.8133743608921553/// logt= -3.33/// boxcox = 0.81\n",
    "# Skew of dti column is 0.18910057534680505/// logt= -1.98/// boxcox = 0.19\n",
    "\n",
    "# positive skew:\n",
    "# Skew of instalment column is 0.9965721690437305/// logt= -0.67/// # ? boxcox = 1\n",
    "# Skew of open_accounts column is 1.0591835802494733/// logt= -0.47/// # boxcox = 1.06\n",
    "# Skew of total_rec_prncp column is 1.2626785390807123/// logt= -0.92/// # boxcox = 1.26\n",
    "# Skew of total_payment column is 1.2698752968451772/// logt= -0.75/// # boxcox = 1.27\n",
    "# Skew of total_rec_int column is 2.2045848938701638/// logt= -0.56/// # boxcox = 2.20\n",
    "# Skew of out_prncp column is 2.35405079479137/// logt=0.57/// # boxcox = 2.35\n",
    "# Skew of last_payment_amount column is 2.4972203995928135/// logt=0.13/// # boxcox = 2.50\n",
    "# Skew of inq_last_6mths column is 3.253522804381087/// logt=1.97///# boxcox = 3.25\n",
    "# Skew of delinq_2yrs column is 5.376384516017939 /// # logt=5.42/// boxcox = 5.38\n",
    "# Skew of annual_inc column is 8.717499091755876/// logt= 0.14/// # boxcox = 8.72\n",
    "# Skew of total_rec_late_fee column is 13.174553220535644/// logt=5.51///# boxcox = 13.17\n",
    "# Skew of recoveries column is 14.389298686317593/// logt=3.82/// # boxcox = 14.39\n",
    "# Skew of collections_12_mths_ex_med column is 20.307695011511576/// # logt=65.06/// boxcox = 20.31\n",
    "# Skew of collection_recovery_fee column is 27.807756579876514/// logt=5.41/// # boxcox = 27.81"
   ]
  },
  {
   "cell_type": "code",
   "execution_count": null,
   "metadata": {},
   "outputs": [],
   "source": [
    "logt_cols = ['annual_inc', 'total_accounts', 'open_accounts', 'last_payment_amount']\n",
    "df_cols.log_transform(logt_cols)"
   ]
  },
  {
   "cell_type": "code",
   "execution_count": null,
   "metadata": {},
   "outputs": [],
   "source": [
    "boxcox_cols = ['loan_amount', 'instalment', 'int_rate', 'dti', 'funded_amount_inv', 'total_payment']\n",
    "df_cols.box_cox_transform(boxcox_cols)"
   ]
  },
  {
   "cell_type": "code",
   "execution_count": null,
   "metadata": {},
   "outputs": [],
   "source": [
    "# code below saves file, but its already saved\n",
    "df_cols.save_transformed_data('transformed_loan_data.csv')"
   ]
  },
  {
   "cell_type": "markdown",
   "metadata": {},
   "source": [
    "# Outlier Stage"
   ]
  },
  {
   "cell_type": "code",
   "execution_count": null,
   "metadata": {},
   "outputs": [],
   "source": [
    "transformed_loans = pd.read_csv('transformed_loan_data.csv')\n",
    "df_cols = DataFrameTransform(transformed_loans)\n",
    "plot = Plotter(transformed_loans)"
   ]
  },
  {
   "cell_type": "code",
   "execution_count": null,
   "metadata": {},
   "outputs": [],
   "source": [
    "numerical_cols = ['loan_amount','funded_amount_inv', 'int_rate', 'instalment', 'dti', 'annual_inc', 'total_payment', 'total_accounts', 'open_accounts', 'last_payment_amount']\n",
    "plot.multi_hist_plot(numerical_cols)"
   ]
  },
  {
   "cell_type": "code",
   "execution_count": null,
   "metadata": {},
   "outputs": [],
   "source": [
    "plot.multi_qq_plot(numerical_cols)"
   ]
  },
  {
   "cell_type": "code",
   "execution_count": null,
   "metadata": {},
   "outputs": [],
   "source": [
    "# boxplot of \n",
    "plot.show_outliers()"
   ]
  },
  {
   "cell_type": "code",
   "execution_count": null,
   "metadata": {},
   "outputs": [],
   "source": [
    "plot.boxplot(numerical_cols)"
   ]
  },
  {
   "cell_type": "code",
   "execution_count": null,
   "metadata": {},
   "outputs": [],
   "source": [
    "filtered_df = df_cols.remove_outliers_iqr_dataframe(column= numerical_cols, threshold=1.5)\n",
    "plot.show_outliers_after_removal(dataframe=filtered_df, columns=numerical_cols)"
   ]
  },
  {
   "cell_type": "code",
   "execution_count": null,
   "metadata": {},
   "outputs": [],
   "source": [
    "df_without_outliers = DataFrameTransform(filtered_df)\n",
    "plot_without_outliers = Plotter(filtered_df)\n",
    "Transform = DataTransform(filtered_df)"
   ]
  },
  {
   "cell_type": "code",
   "execution_count": null,
   "metadata": {},
   "outputs": [],
   "source": [
    "plot_without_outliers.boxplot(numerical_cols)\n"
   ]
  },
  {
   "cell_type": "code",
   "execution_count": null,
   "metadata": {},
   "outputs": [],
   "source": [
    "plot_without_outliers.multi_hist_plot(numerical_cols)"
   ]
  },
  {
   "cell_type": "code",
   "execution_count": null,
   "metadata": {},
   "outputs": [],
   "source": [
    "plot_without_outliers.show_missing_nulls()\n",
    "# removing the outliers has left NAN values, so we will either transform or remove the rows"
   ]
  },
  {
   "cell_type": "code",
   "execution_count": null,
   "metadata": {},
   "outputs": [],
   "source": [
    "df_without_outliers.num_of_nulls()\n",
    "# values are all very low, impute with the mean!"
   ]
  },
  {
   "cell_type": "code",
   "execution_count": null,
   "metadata": {},
   "outputs": [],
   "source": [
    "# Outliers: If a column has noticeable outliers, the median is more robust and less influenced by extreme values.\n",
    "to_be_median_imputed = ['loan_amount', 'funded_amount_inv',  'int_rate', 'instalment', 'annual_inc', 'open_accounts', 'total_accounts', 'total_payment', 'last_payment_amount']\n",
    "df_without_outliers.impute_median(to_be_median_imputed)"
   ]
  },
  {
   "cell_type": "code",
   "execution_count": null,
   "metadata": {},
   "outputs": [],
   "source": [
    "df_without_outliers.num_of_nulls()\n",
    "plot_without_outliers.show_missing_nulls()"
   ]
  },
  {
   "cell_type": "code",
   "execution_count": null,
   "metadata": {},
   "outputs": [],
   "source": [
    "plot_without_outliers.multi_qq_plot(numerical_cols)"
   ]
  },
  {
   "cell_type": "code",
   "execution_count": null,
   "metadata": {},
   "outputs": [],
   "source": [
    "plot_without_outliers.heatmap(numerical_cols)"
   ]
  },
  {
   "cell_type": "code",
   "execution_count": null,
   "metadata": {},
   "outputs": [],
   "source": [
    "## Threshold for highly correlated columns is 0.85\n",
    "\n",
    "# Multi-linearity between 'loan_amount', 'instalment' & 'funded_amount_inv'\n",
    "\n",
    "# funded_amount_inv and loan_amount corrolation = 0.96\n",
    "# instalmannt and loan_amount corrolation = 0.96\n",
    "# instalmannt and funded_amount_inv corrolation = 0.93\n",
    "    # desptie columns being past the threshold, they're all important for the analysis stage, so we wont be dropping any of them!\n",
    "\n",
    "# total_payment is highly corrolated with loan_amount, funded_amount_inv and instalment too, but only at 0.81, 0.78 and 0.81 respectively\n",
    "# therefore not passed the 0.85 threshold"
   ]
  },
  {
   "cell_type": "code",
   "execution_count": null,
   "metadata": {},
   "outputs": [],
   "source": [
    "df_cols.save_transformed_data('filtered_loan_data.csv')\n",
    "# saves data without any outliers"
   ]
  },
  {
   "cell_type": "markdown",
   "metadata": {},
   "source": [
    "# Milestone 4"
   ]
  },
  {
   "cell_type": "markdown",
   "metadata": {},
   "source": [
    "## Current state of the Loans"
   ]
  },
  {
   "cell_type": "code",
   "execution_count": null,
   "metadata": {},
   "outputs": [],
   "source": [
    "filtered_df = pd.read_csv('untransformed_loan_data.csv')\n",
    "# untransformed data, specifically for milestone 4\n",
    "df_without_outliers = DataFrameTransform(filtered_df)\n",
    "plot_without_outliers = Plotter(filtered_df)\n",
    "Transform = DataTransform(filtered_df)"
   ]
  },
  {
   "cell_type": "code",
   "execution_count": null,
   "metadata": {},
   "outputs": [],
   "source": [
    "filtered_df['term'] = filtered_df['term'].replace(0, 36)\n",
    "# replaces 0's in term with median value(36)"
   ]
  },
  {
   "cell_type": "code",
   "execution_count": null,
   "metadata": {},
   "outputs": [],
   "source": [
    "# loan recovered (total_payment) againts invstor funding (funded_amount_inv) & total amount funded (loan_amount)\n",
    "total_amount_funded = filtered_df['loan_amount'].sum()\n",
    "print(f' Total loan amount funded is {total_amount_funded}')\n",
    "invstor_funding = filtered_df['funded_amount_inv'].sum()\n",
    "print(f' Total amount invested is {invstor_funding}')\n",
    "total_payment_sum = filtered_df['total_payment'].sum()\n",
    "print(f' Total payment recovered is {total_payment_sum}')"
   ]
  },
  {
   "cell_type": "code",
   "execution_count": null,
   "metadata": {},
   "outputs": [],
   "source": [
    "#together and rounded\n",
    "totals = round(filtered_df[['loan_amount', 'funded_amount_inv', 'total_payment']].sum(), 0)\n",
    "totals"
   ]
  },
  {
   "cell_type": "code",
   "execution_count": null,
   "metadata": {},
   "outputs": [],
   "source": [
    "# % of loans recovered\n",
    "print(f'Percentage of the loans recovered against the investor_funding is {(total_payment_sum/invstor_funding)*100}')\n",
    "print(f'Percentage of the loans recovered against the total_amount_funded is {(total_payment_sum/total_amount_funded)*100}')\n",
    "\n",
    "per_of__inv_loan_recovered = round((total_payment_sum/invstor_funding)*100, 2)\n",
    "per_of__total_loan_recovered = round((total_payment_sum/total_amount_funded)*100, 2)\n",
    "print(f' {per_of__inv_loan_recovered}%')\n",
    "print(f' {per_of__total_loan_recovered}%')"
   ]
  },
  {
   "cell_type": "code",
   "execution_count": null,
   "metadata": {},
   "outputs": [],
   "source": [
    "data = {\n",
    "'funded_amount_inv': (filtered_df['total_payment'].sum()/invstor_funding)*100,\n",
    "'loan_amount': (filtered_df['total_payment'].sum()/total_amount_funded)*100\n",
    "}\n",
    "\n",
    "plot_without_outliers.bar(data)"
   ]
  },
  {
   "cell_type": "code",
   "execution_count": null,
   "metadata": {},
   "outputs": [],
   "source": [
    "# Calculate percentage of investor funding recovered\n",
    "pct_invetor_rec = round(100 * totals.total_payment/totals.funded_amount_inv, 2)\n",
    "# Calculate percentage of funded amount recovered\n",
    "pct_total_rec = round(100 * totals.total_payment/totals.loan_amount, 2) "
   ]
  },
  {
   "cell_type": "code",
   "execution_count": null,
   "metadata": {},
   "outputs": [],
   "source": [
    "data = {'Funding': ['Investor', 'Total'],\n",
    "            'Percent': [pct_invetor_rec, pct_total_rec]}\n",
    "\n",
    "# Create a Pandas DataFrame\n",
    "df = pd.DataFrame(data)\n",
    "display(df)\n",
    "\n",
    "df.plot(x=\"Funding\", y=\"Percent\", kind=\"bar\", ylabel=\"% Recovered\") "
   ]
  },
  {
   "cell_type": "code",
   "execution_count": null,
   "metadata": {},
   "outputs": [],
   "source": [
    "df.plot(y=\"Percent\", kind=\"pie\", ylabel=\"% Recovered\", labels=df['Funding'], startangle=90, xlabel='Funding')\n",
    "# Add a title and xlabel\n",
    "plt.title(\"Recovery Percentage by Funding Source\")\n",
    "plt.legend(title=\"Funding Source\")\n",
    "# Display the chart\n",
    "plt.show()"
   ]
  },
  {
   "cell_type": "code",
   "execution_count": null,
   "metadata": {},
   "outputs": [],
   "source": [
    "remaining_amount = round(total_amount_funded - total_payment_sum, 2)\n",
    "remaining_amount\n",
    "# whats left to be paid overall"
   ]
  },
  {
   "cell_type": "code",
   "execution_count": null,
   "metadata": {},
   "outputs": [],
   "source": [
    "# Creating a DataFrame with the recovered and remaining amounts\n",
    "data = {'Amount': [total_payment_sum, remaining_amount]}\n",
    "df = pd.DataFrame(data, index=['Recovered', 'Remaining'])\n",
    "\n",
    "# Plotting the pie chart\n",
    "df.plot(y='Amount', kind='pie', autopct='%1.1f%%', startangle=90)\n",
    "# Adding a title and legend title\n",
    "plt.title(\"Percentage of Amount Recovered\")\n",
    "plt.legend(title=\"Key\")\n",
    "# Displaying the chart\n",
    "plt.show()"
   ]
  },
  {
   "cell_type": "code",
   "execution_count": null,
   "metadata": {},
   "outputs": [],
   "source": [
    "# sum of the total_payment and the instalment and multiply this by 6. \n",
    "# Then divide this by the sum of the funded amount inv. \n",
    "# times By 100 to get this as a percentage\n",
    "\n",
    "six_month_projection = round((filtered_df[\"total_payment\"].sum()+(filtered_df[\"instalment\"].sum()*6))/(filtered_df[\"funded_amount_inv\"].sum())*100, 2)"
   ]
  },
  {
   "cell_type": "code",
   "execution_count": null,
   "metadata": {},
   "outputs": [],
   "source": [
    "data = {'Funding': ['Total'],\n",
    "        'Percent': [six_month_projection]}\n",
    "\n",
    "# Create a Pandas DataFrame\n",
    "df = pd.DataFrame(data)\n",
    "display(df)\n",
    "\n",
    "df.plot(x=\"Funding\", y=\"Percent\", kind=\"bar\", ylabel=\"% Recovered\") "
   ]
  },
  {
   "cell_type": "code",
   "execution_count": null,
   "metadata": {},
   "outputs": [],
   "source": [
    "# Filter the DataFrame to include only charged off loans\n",
    "charged_off_loans = filtered_df[filtered_df['loan_status'] == 'Charged Off']\n",
    "\n",
    "# Calculate the percentage of charged off loans\n",
    "charged_off_percentage = (charged_off_loans.shape[0] / filtered_df.shape[0]) * 100\n",
    "\n",
    "# Calculate the total amount paid towards charged off loans\n",
    "total_payment_charged_off = charged_off_loans['total_payment'].sum()"
   ]
  },
  {
   "cell_type": "code",
   "execution_count": null,
   "metadata": {},
   "outputs": [],
   "source": [
    "print(f\"Percentage of charged off loans: {charged_off_percentage:.2f}%\")\n",
    "print(f\"Total amount paid towards charged off loans: {total_payment_charged_off:.2f}\")"
   ]
  },
  {
   "cell_type": "code",
   "execution_count": null,
   "metadata": {},
   "outputs": [],
   "source": [
    "charged_off_loans_loan_amount_sum = round(charged_off_loans['loan_amount'].sum(),2)\n",
    "print(f' Total amount to be paid: {charged_off_loans_loan_amount_sum}')\n",
    "\n",
    "charged_off_loans_total_payment_sum = round(charged_off_loans['total_payment'].sum(),2)\n",
    "print(f' Total that has been paid: {charged_off_loans_total_payment_sum}')\n",
    "\n",
    "charged_off_loans_loss = round(charged_off_loans_loan_amount_sum - charged_off_loans_total_payment_sum, 2)\n",
    "print(f' Total that has been lost: {charged_off_loans_loss}')"
   ]
  },
  {
   "cell_type": "code",
   "execution_count": null,
   "metadata": {},
   "outputs": [],
   "source": [
    "data = {'Paid': [charged_off_loans_total_payment_sum],\n",
    "        'Loss': [charged_off_loans_loss]}\n",
    "\n",
    "df = pd.DataFrame(data)\n",
    "display(df)"
   ]
  },
  {
   "cell_type": "code",
   "execution_count": null,
   "metadata": {},
   "outputs": [],
   "source": [
    "# Creating a pie chart\n",
    "labels = ['Paid', 'Loss']\n",
    "sizes = [charged_off_loans_total_payment_sum, charged_off_loans_loss]\n",
    "colors = ['#1f77b4', '#ff7f0e']\n",
    "plt.pie(sizes, labels=labels, colors=colors, autopct='%1.1f%%')\n",
    "# Setting the title of the pie chart\n",
    "plt.title('Paid vs. Loss')\n",
    "# Displaying the pie chart\n",
    "plt.show()"
   ]
  },
  {
   "cell_type": "code",
   "execution_count": null,
   "metadata": {},
   "outputs": [],
   "source": [
    "# Creating a pie chart\n",
    "labels = ['Paid', 'Loss']\n",
    "sizes = [charged_off_loans_total_payment_sum, charged_off_loans_loss]\n",
    "colors = ['#1f77b4', '#ff7f0e']\n",
    "plt.pie(sizes, labels=labels, colors=colors, autopct='%1.1f%%', startangle=90)\n",
    "# Setting the title of the pie chart\n",
    "plt.title('Paid vs. Loss')\n",
    "# Adding a legend\n",
    "plt.legend()\n",
    "# Displaying the pie chart\n",
    "plt.show()"
   ]
  },
  {
   "cell_type": "code",
   "execution_count": null,
   "metadata": {},
   "outputs": [],
   "source": [
    "filtered_df['num_of_payments_made'] = filtered_df['total_payment'] / filtered_df['instalment']\n",
    "filtered_df['months_left_to_pay'] = filtered_df['term'] - filtered_df['num_of_payments_made']"
   ]
  },
  {
   "cell_type": "code",
   "execution_count": null,
   "metadata": {},
   "outputs": [],
   "source": [
    "# Filtering the DataFrame to include only late loans\n",
    "risk_loans = filtered_df[(filtered_df['loan_status'] == 'Late (31-120 days)') | (filtered_df['loan_status'] == 'Late (16-30 days)')]\n",
    "# Calculating the percentage of risk loans\n",
    "risk_percentage = round((risk_loans.shape[0] / filtered_df.shape[0]) * 100, 2)\n",
    "# Calculating the total amount paid towards charged off loans\n",
    "total_customers_in_risk_bracket = round(risk_loans.shape[0],0)\n",
    "print(f\"Percentage of risk loans: {risk_percentage}%\")\n",
    "print(f\"Total number of customers in risk bracket: {total_customers_in_risk_bracket}\")"
   ]
  },
  {
   "cell_type": "code",
   "execution_count": null,
   "metadata": {},
   "outputs": [],
   "source": [
    "risk_loans_loan_amount_sum = round(risk_loans['loan_amount'].sum(),2)\n",
    "# print(f' Total amount to be paid: {risk_loans_loan_amount_sum}')\n",
    "risk_loans_total_payment_sum = round(risk_loans['total_payment'].sum(),2)\n",
    "# print(f' Total that has been paid: {risk_loans_total_payment_sum}')\n",
    "risk_loans_loss = round(risk_loans_loan_amount_sum - risk_loans_total_payment_sum, 2)\n",
    "print(f'Total still to be paid (exclusive of int_rate): {risk_loans_loss}')\n",
    "# print(f'Percentage: {round((risk_loans_loss/risk_loans_loan_amount_sum)*100,2)}%')"
   ]
  },
  {
   "cell_type": "code",
   "execution_count": null,
   "metadata": {},
   "outputs": [],
   "source": [
    "risk_amount_left_to_pay_ = risk_loans['months_left_to_pay'] * risk_loans['instalment']\n",
    "projected_loss = round(risk_amount_left_to_pay_.sum(), 2)\n",
    "print(f\"Projected Loss if Switched to Charged Off: ${projected_loss}\")"
   ]
  },
  {
   "cell_type": "code",
   "execution_count": null,
   "metadata": {},
   "outputs": [],
   "source": [
    "risk_charged_off_rev_pct = risk_percentage + charged_off_percentage \n",
    "print(f'Percentage of late and charged off revenue: {risk_charged_off_rev_pct:.2f}%')"
   ]
  },
  {
   "cell_type": "code",
   "execution_count": null,
   "metadata": {},
   "outputs": [],
   "source": [
    "# compare grade, purpose and home_ownership with \n",
    "# customers who have already stopped paying \n",
    "# and \n",
    "# customers who are currently behind on payments.\n",
    "\n",
    "# im also going to investigate employment_length, sub_grade, annual_inc and open_accounts\n",
    "\n",
    "# Does the grade of the loan have effect on customers not paying?\n",
    "# Is the purpose for the loan likely to have an effect?\n",
    "# Does the home_ownership value contribute to the likelihood a customer won't pay?\n"
   ]
  },
  {
   "cell_type": "code",
   "execution_count": null,
   "metadata": {},
   "outputs": [],
   "source": [
    "paid_loans = filtered_df[(filtered_df['loan_status'] == 'Fully Paid')]\n",
    "on_time_loans = filtered_df[(filtered_df['loan_status'] == 'Current')]\n",
    "grace_period_loans = filtered_df[(filtered_df['loan_status'] == 'In Grace Period')]"
   ]
  },
  {
   "cell_type": "code",
   "execution_count": null,
   "metadata": {},
   "outputs": [],
   "source": [
    "data = {'Paid Grades': paid_loans['grade'].value_counts(),\n",
    "        # 'On Time Grades': on_time_loans['grade'].value_counts(),\n",
    "        # 'Grace Period Grades': grace_period_loans['grade'].value_counts(),\n",
    "        'Risk Loan Grades': risk_loans['grade'].value_counts(),\n",
    "        'Charged Off Grades': charged_off_loans['grade'].value_counts()\n",
    "        }\n",
    "\n",
    "df = pd.DataFrame(data)\n",
    "\n",
    "for index, row in df.iterrows():\n",
    "    print(f\"Paid Loans {index} Grade: {row['Paid Grades']}\")\n",
    "    # print(f\"On time {index} Grades: {row['On Time Grades']}\")\n",
    "    # print(f\"Grace Period {index} Grades: {row['Grace Period Grades']}\")\n",
    "    print(f\"Risk Loan {index} Grades: {row['Risk Loan Grades']}\")\n",
    "    print(f\"Charged Off Loan {index} Grades: {row['Charged Off Grades']}\") \n",
    "\n",
    "df.plot(kind='bar', stacked=True)\n",
    "\n",
    "plt.title('Counts of Grades')\n",
    "plt.xlabel('Grade')\n",
    "plt.ylabel('Count')\n",
    "plt.legend()\n",
    "# Displaying the plot\n",
    "plt.show()"
   ]
  },
  {
   "cell_type": "code",
   "execution_count": null,
   "metadata": {},
   "outputs": [],
   "source": [
    "data = {'Paid sub grade': paid_loans['sub_grade'].value_counts(),\n",
    "        # 'On Time sub grade': on_time_loans['sub_grade'].value_counts(),\n",
    "        # 'Grace Period sub grade': grace_period_loans['sub_grade'].value_counts(),\n",
    "        'Risk Loan sub grade': risk_loans['sub_grade'].value_counts(),\n",
    "        'Charged Off sub grade': charged_off_loans['sub_grade'].value_counts()\n",
    "        }\n",
    "\n",
    "df = pd.DataFrame(data)\n",
    "\n",
    "for index, row in df.iterrows():\n",
    "    print(f\"Paid Loans sub grade {index}: {row['Paid sub grade']}\")\n",
    "    # print(f\"On time sub grade {index}: {row['On Time sub grade']}\")\n",
    "    # print(f\"Grace Period sub grade {index}: {row['Grace Period sub grade']}\")\n",
    "    print(f\"Risk Loan sub grade {index}: {row['Risk Loan sub grade']}\")\n",
    "    print(f\"Charged Off Loan sub grade {index}: {row['Charged Off sub grade']}\")\n",
    "\n",
    "df = pd.DataFrame(data)\n",
    "\n",
    "df.plot(kind='bar', stacked=True)\n",
    "\n",
    "plt.title('Count of Sub Grade')\n",
    "plt.xlabel('Sub Grades')\n",
    "plt.ylabel('Count')\n",
    "plt.legend()\n",
    "plt.show()"
   ]
  },
  {
   "cell_type": "code",
   "execution_count": null,
   "metadata": {},
   "outputs": [],
   "source": [
    "# next plot\n",
    "data = {'Paid purpose': paid_loans['purpose'].value_counts(),\n",
    "        # 'On Time purpose': on_time_loans['purpose'].value_counts(),\n",
    "        # 'Grace Period purpose': grace_period_loans['purpose'].value_counts(),\n",
    "        'Risk Loan purpose': risk_loans['purpose'].value_counts(),\n",
    "        'Charged Off purpose': charged_off_loans['purpose'].value_counts()\n",
    "        }\n",
    "\n",
    "df = pd.DataFrame(data)\n",
    "\n",
    "for index, row in df.iterrows():\n",
    "    print(f\"Paid Loans purpose: {index} {row['Paid purpose']}\")\n",
    "    # print(f\"On time purpose: {index} {row['On Time purpose']}\")\n",
    "    # print(f\"Grace Period purpose: {index} {row['Grace Period purpose']}\")\n",
    "    print(f\"Risk Loan purpose: {index} {row['Risk Loan purpose']}\")\n",
    "    print(f\"Charged Off Loan purpose: {index} {row['Charged Off purpose']}\")\n",
    "\n",
    "df.plot(kind='bar', stacked=True)\n",
    "\n",
    "plt.title('Counts of Purposes')\n",
    "plt.xlabel('Loan Purpose')\n",
    "plt.ylabel('Count')\n",
    "plt.legend()\n",
    "plt.show()"
   ]
  },
  {
   "cell_type": "code",
   "execution_count": null,
   "metadata": {},
   "outputs": [],
   "source": [
    "# next plot\n",
    "data = {'Paid home ownership': paid_loans['home_ownership'].value_counts(),\n",
    "    # 'On Time home ownership': on_time_loans['home_ownership'].value_counts(),\n",
    "    # 'Grace Period home ownership': grace_period_loans['home_ownership'].value_counts(),\n",
    "    'Risk Loan home ownership': risk_loans['home_ownership'].value_counts(),\n",
    "    'Charged Off home ownership': charged_off_loans['home_ownership'].value_counts()\n",
    "    }\n",
    "df = pd.DataFrame(data)\n",
    "\n",
    "for index, row in df.iterrows():\n",
    "    print(f\"Paid Loans home ownership: {index} {row['Paid home ownership']}\")\n",
    "    # print(f\"On time home ownership: {index} {row['On Time home ownership']}\")\n",
    "    # print(f\"Grace Period home ownership: {index} {row['Grace Period home ownership']}\")\n",
    "    print(f\"Risk Loan home ownership: {index} {row['Risk Loan home ownership']}\")\n",
    "    print(f\"Charged Off Loan home ownership: {index} {row['Charged Off home ownership']}\")\n",
    "\n",
    "df.plot(kind='bar', stacked=True)\n",
    "\n",
    "plt.title('Counts of Home Ownership Status')\n",
    "plt.xlabel('Home Ownership')\n",
    "plt.ylabel('Count')\n",
    "plt.legend()\n",
    "plt.show()"
   ]
  },
  {
   "cell_type": "code",
   "execution_count": null,
   "metadata": {},
   "outputs": [],
   "source": [
    "# next plot \n",
    "data = {'Paid employment length': paid_loans['employment_length'].value_counts(),\n",
    "    # 'On Time employment length': on_time_loans['employment_length'].value_counts(),\n",
    "    # 'Grace Period employment length': grace_period_loans['employment_length'].value_counts(),\n",
    "    'Risk Loan employment length': risk_loans['employment_length'].value_counts(),\n",
    "    'Charged Off employment length': charged_off_loans['employment_length'].value_counts()\n",
    "    }\n",
    "\n",
    "df = pd.DataFrame(data)\n",
    "\n",
    "for index, row in df.iterrows():\n",
    "    print(f\"Paid Loans employment length {index}: {row['Paid employment length']}\")\n",
    "    # print(f\"On time employment length {index}: {row['On Time employment length']}\")\n",
    "    # print(f\"Grace Period employment length {index}: {row['Grace Period employment length']}\")\n",
    "    print(f\"Risk Loan employment length {index}: {row['Risk Loan employment length']}\")\n",
    "    print(f\"Charged Off Loan employment length {index}: {row['Charged Off employment length']}\")\n",
    "\n",
    "df.plot(kind='bar', stacked=True)\n",
    "\n",
    "plt.title('Length of Employment')\n",
    "plt.xlabel('Employment Length')\n",
    "plt.ylabel('Count')\n",
    "plt.legend()\n",
    "plt.show()"
   ]
  },
  {
   "cell_type": "code",
   "execution_count": null,
   "metadata": {},
   "outputs": [],
   "source": [
    "# next plot\n",
    "data = {\n",
    "'Paid annual income': paid_loans['annual_inc'],\n",
    "'Risk Loan annual income': risk_loans['annual_inc'],\n",
    "'Charged Off annual income': charged_off_loans['annual_inc']\n",
    "}\n",
    "\n",
    "df = pd.DataFrame(data)\n",
    "\n",
    "# Print the counts for each loan category\n",
    "for column in df.columns:\n",
    "    counts = df[column].value_counts()\n",
    "    print(f\"{column} counts:\")\n",
    "    print(counts)\n",
    "    print()\n",
    "\n",
    "# Plotting histogram-density plots using seaborn\n",
    "for column in df.columns:\n",
    "    plt.figure(figsize=(10, 6))  # Set the figure size as needed\n",
    "    plt.subplot(1, 2, 1)\n",
    "    sns.histplot(df[column], kde=True)\n",
    "    plt.title(f\"Histogram-Density Plot - {column}\")\n",
    "    plt.xlabel(\"Annual Income\")\n",
    "    plt.ylabel(\"Density\")\n",
    "    plt.xlim(0, 700000)  # Adjust the x-axis limits as needed\n",
    "\n",
    "    plt.subplot(1, 2, 2)\n",
    "    sns.boxplot(y=df[column])\n",
    "    plt.title(f\"Box Plot - {column}\")\n",
    "    plt.ylabel(\"Annual Income\")\n",
    "\n",
    "    # Customising y-axis tick labels\n",
    "    plt.gca().get_yaxis().get_major_formatter().set_scientific(False)\n",
    "    plt.tight_layout()  # Adjust the spacing between subplots\n",
    "    plt.show()"
   ]
  },
  {
   "cell_type": "code",
   "execution_count": null,
   "metadata": {},
   "outputs": [],
   "source": [
    "# different view of box plots for annual_inc\n",
    "\n",
    "data = {'Paid annual income': paid_loans['annual_inc'].value_counts(),\n",
    "        # 'On Time annual income': on_time_loans['annual_inc'].value_counts(),\n",
    "        # 'Grace Period annual income': grace_period_loans['annual_inc'].value_counts(),\n",
    "        'Risk Loan annual income': risk_loans['annual_inc'].value_counts(),\n",
    "        'Charged Off annual income': charged_off_loans['annual_inc'].value_counts()\n",
    "        }\n",
    "\n",
    "df = pd.DataFrame(data)\n",
    "\n",
    "for index, row in df.iterrows():\n",
    "    print(f\"Paid Loans annual income {index}: {row['Paid annual income']}\")\n",
    "    # print(f\"On time annual income {index}: {row['On Time annual income']}\")\n",
    "    # print(f\"Grace Period annual income {index}: {row['Grace Period annual income']}\")\n",
    "    print(f\"Risk Loan annual income {index}: {row['Risk Loan annual income']}\")\n",
    "    print(f\"Charged Off Loan annual income {index}: {row['Charged Off annual income']}\")\n",
    "\n",
    "df = pd.DataFrame(data)\n",
    "\n",
    "# Plotting the box plot\n",
    "df.boxplot()\n",
    "plt.title('Distribution of Annual Income')\n",
    "plt.ylabel('Annual Income')\n",
    "plt.xticks(rotation=45)"
   ]
  },
  {
   "cell_type": "code",
   "execution_count": null,
   "metadata": {},
   "outputs": [],
   "source": [
    "# another view\n",
    "data = {\n",
    "    'Paid annual income': paid_loans['annual_inc'],\n",
    "    'Risk Loan annual income': risk_loans['annual_inc'],\n",
    "    'Charged Off annual income': charged_off_loans['annual_inc']\n",
    "}\n",
    "\n",
    "df = pd.DataFrame(data)\n",
    "\n",
    "# Print the counts for each loan category\n",
    "for column in df.columns:\n",
    "    counts = df[column].value_counts()\n",
    "    print(f\"{column} counts:\")\n",
    "    print(counts)\n",
    "    print()\n",
    "\n",
    "df.boxplot()\n",
    "\n",
    "# Customizing the plot\n",
    "plt.title('Distribution of Annual Income')\n",
    "plt.ylabel('Annual Income')\n",
    "plt.xticks(rotation=45)\n",
    "\n",
    "plt.show()"
   ]
  },
  {
   "cell_type": "code",
   "execution_count": null,
   "metadata": {},
   "outputs": [],
   "source": [
    "# %%\n",
    "# Summary:\n",
    "\n",
    "# Grade / Sub Grade:\n",
    "# Those with a higher Grade or Sub grade were more likely to pay back the full loan, than those with lower grades\n",
    "# As the grade decends from 'A', there is a decrease in fully paid loans and an increase in risk and charged off loans between 'B1-E2'.\n",
    "# Thus, the lower the grade the more risky the loan becomes.\n",
    "\n",
    "# Annual Income:\n",
    "# in comparison to the paid loans, charged off and risk loans are drastically smaller\n",
    "# Thus indicating that a higher income is suggestive of being able to pay the full loan back\n",
    "# And smaller annual incomes are suggestive of needing more time/assistance or likely to be charged off \n",
    "\n",
    "# Purpose:\n",
    "# debt_consolidation Has a significant increase within the risk and charged off loans as a the primary/majority purpose for their loans\n",
    "# The majority of paid loans was for this purpose too\n",
    "# Meaning purpose alone may not directly be linked to likelyhood to be able to pay back the loans, an analysis of all indicators would need to be observed\n",
    "# Other than that small businesses and credit_card purposes also poses a strong likelyhood of being charged off\n",
    "\n",
    "# Home Ownership:\n",
    "# Morgage owners are very likly to be able to pay the full loan\n",
    "# Renters are slightly more likely to be charged off, but are still hold a good place for repaying their loans in full\n",
    "# however, people who own their property seem to be not as likely as the previous two to pay the loan in full\n",
    "# but there is less data on that point\n",
    "# so in summary people who rent their property should be accepted with some caution \n",
    "\n",
    "# Employment Length:\n",
    "# The largest amount of paid, charged off and risk loans all come frome people who have been in employment for 10 years+\n",
    "# But the paid loans are significantly higher, suggesting that people in long term employment are more likely to pay their loans in full.\n",
    "# However, ignoring the 10years+ most of the columns seem largely similar\n",
    "# This could suggest that employment length doesnt have a significant impact on ability to repay loans\n",
    "# but it should still be noted that people who have worked less than a year have the 2nd largest amount of charged off loans after the 10years+\n"
   ]
  }
 ],
 "metadata": {
  "kernelspec": {
   "display_name": "base",
   "language": "python",
   "name": "python3"
  },
  "language_info": {
   "codemirror_mode": {
    "name": "ipython",
    "version": 3
   },
   "file_extension": ".py",
   "mimetype": "text/x-python",
   "name": "python",
   "nbconvert_exporter": "python",
   "pygments_lexer": "ipython3",
   "version": "3.12.2"
  }
 },
 "nbformat": 4,
 "nbformat_minor": 2
}
